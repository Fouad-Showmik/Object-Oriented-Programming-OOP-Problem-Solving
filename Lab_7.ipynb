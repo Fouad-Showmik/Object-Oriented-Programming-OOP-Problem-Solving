{
  "cells": [
    {
      "cell_type": "code",
      "execution_count": null,
      "id": "f57568bd",
      "metadata": {
        "id": "f57568bd",
        "outputId": "a95460e9-8f1c-4d0d-a294-48e1cd40e2df"
      },
      "outputs": [
        {
          "name": "stdout",
          "output_type": "stream",
          "text": [
            "Name: default Department: BBA\n",
            "Name: Humpty Dumpty Department: BBA\n",
            "Name: Little Bo Peep Department: BBA\n"
          ]
        }
      ],
      "source": [
        "#Task_01\n",
        "\n",
        "class Student:\n",
        "    def __init__(self, name='Just a student', dept='nothing'):\n",
        "        self.__name = name\n",
        "        self.__department = dept\n",
        "    def set_department(self, dept):\n",
        "        self.__department = dept\n",
        "    def get_name(self):\n",
        "        return self.__name\n",
        "    def set_name(self,name):\n",
        "        self.__name = name\n",
        "    def __str__(self):\n",
        "        return 'Name: '+self.__name+' Department: '+self.__department\n",
        "class BBA_Student(Student):\n",
        "    def __init__(self,name = 'default',dept = 'BBA'):\n",
        "        super().__init__(name,dept)\n",
        "\n",
        "print(BBA_Student())\n",
        "print(BBA_Student('Humpty Dumpty'))\n",
        "print(BBA_Student('Little Bo Peep'))"
      ]
    },
    {
      "cell_type": "code",
      "execution_count": null,
      "id": "a55ceeec",
      "metadata": {
        "id": "a55ceeec",
        "outputId": "aa25a2eb-b4a0-4ead-a70e-f9edc96670e1"
      },
      "outputs": [
        {
          "name": "stdout",
          "output_type": "stream",
          "text": [
            "Part 1\n",
            "------\n",
            "(0 , 0)\n",
            "(0 , 1)\n",
            "(-1 , 1)\n",
            "(-1 , 0)\n",
            "(0 , 0)\n",
            "------\n",
            "Part 2\n",
            "------\n",
            "(0 , 0)\n",
            "(-1 , -1)\n",
            "False\n",
            "True\n"
          ]
        }
      ],
      "source": [
        "#Task_02\n",
        "\n",
        "class Vehicle:\n",
        "    def __init__(self):\n",
        "        self.x = 0\n",
        "        self.y = 0\n",
        "    def moveUp(self):\n",
        "        self.y+=1\n",
        "    def moveDown(self):\n",
        "        self.y-=1\n",
        "    def moveRight(self):\n",
        "        self.x+=1\n",
        "    def moveLeft(self):\n",
        "        self.x-=1\n",
        "    def __str__(self):\n",
        "        return '('+str(self.x)+' , '+str(self.y)+')'\n",
        "\n",
        "class Vehicle2010(Vehicle):\n",
        "    def __init__(self):\n",
        "        super().__init__()\n",
        "    def moveLowerLeft(self):\n",
        "        self.x -= 1\n",
        "        self.y -= 1\n",
        "    def moveUpperLeft(self):\n",
        "        self.x -= 1\n",
        "        self.y += 1\n",
        "    def moveUpperRight(self):\n",
        "        self.x += 1\n",
        "        self.y += 1\n",
        "    def moveLowerRight(self):\n",
        "        self.x += 1\n",
        "        self.y -= 1\n",
        "    def equals(self,other):\n",
        "        if self.x == other.x and self.y == other.y:\n",
        "            return True\n",
        "        else:\n",
        "            return False\n",
        "\n",
        "\n",
        "print('Part 1')\n",
        "print('------')\n",
        "car = Vehicle()\n",
        "print(car)\n",
        "car.moveUp()\n",
        "print(car)\n",
        "car.moveLeft()\n",
        "print(car)\n",
        "car.moveDown()\n",
        "print(car)\n",
        "car.moveRight()\n",
        "print(car)\n",
        "print('------')\n",
        "print('Part 2')\n",
        "print('------')\n",
        "car1 = Vehicle2010()\n",
        "print(car1)\n",
        "car1.moveLowerLeft()\n",
        "print(car1)\n",
        "car2 = Vehicle2010()\n",
        "car2.moveLeft()\n",
        "print(car1.equals(car2))\n",
        "car2.moveDown()\n",
        "print(car1.equals(car2))"
      ]
    },
    {
      "cell_type": "code",
      "execution_count": null,
      "id": "366b2a40",
      "metadata": {
        "id": "366b2a40",
        "outputId": "cf1eaa7a-bf18-4429-dea7-0091cc98c379"
      },
      "outputs": [
        {
          "name": "stdout",
          "output_type": "stream",
          "text": [
            "Cricket Tournament Name: Default \n",
            "Number of Teams: 0 \n",
            "Type: No type\n",
            "-----------------------\n",
            "Cricket Tournament Name: IPL \n",
            "Number of Teams: 10 \n",
            "Type: t20\n",
            "-----------------------\n",
            "Tennis Tournament Name: Roland Garros \n",
            "Number of the Players: 128 \n"
          ]
        }
      ],
      "source": [
        "#Task_03\n",
        "\n",
        "class Tournament:\n",
        "    def __init__(self,name='Default'):\n",
        "        self.__name = name\n",
        "    def set_name(self,name):\n",
        "        self.__name = name\n",
        "    def get_name(self):\n",
        "        return self.__name\n",
        "\n",
        "class Cricket_Tournament(Tournament):\n",
        "    def __init__(self,name = 'Default',team = 0, type = 'No type'):\n",
        "        super().__init__(name)\n",
        "        self.team = team\n",
        "        self.type = type\n",
        "    def detail(self):\n",
        "        return 'Cricket Tournament Name: {} \\nNumber of Teams: {} \\nType: {}'.format(self.get_name(),self.team,self.type)\n",
        "class Tennis_Tournament(Tournament):\n",
        "    def __init__(self,name,number):\n",
        "        super().__init__(name)\n",
        "        self.number = number\n",
        "    def detail(self):\n",
        "        return 'Tennis Tournament Name: {} \\nNumber of the Players: {} '.format(self.get_name(),self.number)\n",
        "\n",
        "ct1 = Cricket_Tournament()\n",
        "print(ct1.detail())\n",
        "print(\"-----------------------\")\n",
        "ct2 = Cricket_Tournament(\"IPL\",10,\"t20\")\n",
        "print(ct2.detail())\n",
        "print(\"-----------------------\")\n",
        "tt = Tennis_Tournament(\"Roland Garros\",128)\n",
        "print(tt.detail())"
      ]
    },
    {
      "cell_type": "code",
      "execution_count": null,
      "id": "567a3f60",
      "metadata": {
        "id": "567a3f60",
        "outputId": "209d6858-4472-4bc9-b21d-6f705a50b815"
      },
      "outputs": [
        {
          "name": "stdout",
          "output_type": "stream",
          "text": [
            "ID: 1 Title:The AlchemistPrice: 500 \n",
            "ISBN: 97806 \n",
            "Publisher: HarperCollins\n",
            "-----------------------\n",
            "ID: 2 Title:ShottoPrice: 300 \n",
            "Band: Warfaze Duration: 50 minutes \n",
            "genre: Hard Rock\n"
          ]
        }
      ],
      "source": [
        "#Task_04\n",
        "\n",
        "class Product:\n",
        "    def __init__(self,id, title, price):\n",
        "        self.__id = id\n",
        "        self. __title = title\n",
        "        self. __price = price\n",
        "    def get_id_title_price(self):\n",
        "        return \"ID: \"+str(self.__id)+\" Title:\"+self.__title + \"Price: \"+str(self.__price)\n",
        "class Book(Product):\n",
        "    def __init__(self,id,title,price,isbn_no,n_of_pub):\n",
        "        super().__init__(id,title,price)\n",
        "        self.isbn_no = isbn_no\n",
        "        self.n_of_pb = n_of_pub\n",
        "    def printDetail(self):\n",
        "        return '{} \\nISBN: {} \\nPublisher: {}'.format(self.get_id_title_price(),self.isbn_no,self.n_of_pb)\n",
        "class CD(Product):\n",
        "    def __init__(self,id,title,price,name_of_band,duration_of_song,genre_of_song):\n",
        "        super().__init__(id,title,price)\n",
        "        self.name_of_band = name_of_band\n",
        "        self.duration_of_song = duration_of_song\n",
        "        self.genre_of_song = genre_of_song\n",
        "    def printDetail(self):\n",
        "        return '{} \\nBand: {} Duration: {} minutes \\ngenre: {}'.format(self.get_id_title_price(), self.name_of_band,self.duration_of_song,self.genre_of_song)\n",
        "book = Book(1,\"The Alchemist\",500,\"97806\",\"HarperCollins\")\n",
        "print(book.printDetail())\n",
        "print(\"-----------------------\")\n",
        "cd = CD(2,\"Shotto\",300,\"Warfaze\",50,\"Hard Rock\")\n",
        "print(cd.printDetail())"
      ]
    },
    {
      "cell_type": "code",
      "execution_count": null,
      "id": "f1939af8",
      "metadata": {
        "id": "f1939af8",
        "outputId": "90273bc9-94fc-493f-86f0-232a5663917d"
      },
      "outputs": [
        {
          "name": "stdout",
          "output_type": "stream",
          "text": [
            "Animal does not make sound\n",
            "meow\n",
            "bark\n"
          ]
        }
      ],
      "source": [
        "#Task_05\n",
        "\n",
        "class Animal:\n",
        "    def __init__(self,sound):\n",
        "        self.__sound = sound\n",
        "    def makeSound(self):\n",
        "        return self.__sound\n",
        "class Printer:\n",
        "    def printSound(self, a):\n",
        "        print(a.makeSound())\n",
        "\n",
        "class Dog(Animal):\n",
        "    pass\n",
        "class Cat(Animal):\n",
        "    pass\n",
        "\n",
        "d1 = Dog('bark')\n",
        "c1 = Cat('meow')\n",
        "a1 = Animal('Animal does not make sound')\n",
        "pr = Printer()\n",
        "pr.printSound(a1)\n",
        "pr.printSound(c1)\n",
        "pr.printSound(d1)"
      ]
    },
    {
      "cell_type": "code",
      "execution_count": null,
      "id": "ad7eeb62",
      "metadata": {
        "id": "ad7eeb62",
        "outputId": "cbf18758-3935-4d99-a887-f27e03d04040"
      },
      "outputs": [
        {
          "name": "stdout",
          "output_type": "stream",
          "text": [
            "Shape: Default \n",
            "Height: 0,Base: 0 \n",
            "Area: 0.0\n",
            "--------------------------\n",
            "Shape: Triangle \n",
            "Height: 10,Base: 5 \n",
            "Area: 25.0\n",
            "---------------------------\n",
            "Shape Name: Trapezoid \n",
            "Height: 10,Base: 6 Side_A: 4 \n",
            "Area: 50.0\n"
          ]
        }
      ],
      "source": [
        "#Task_06\n",
        "\n",
        "class Shape:\n",
        "    def __init__(self, name='Default', height=0, base=0):\n",
        "        self.area = 0\n",
        "        self.name = name\n",
        "        self.height = height\n",
        "        self.base = base\n",
        "    def get_height_base(self):\n",
        "        return \"Height: \"+str(self.height)+\",Base: \"+str(self.base)\n",
        "\n",
        "class triangle(Shape):\n",
        "    def calcArea(self):\n",
        "        self.area = .5*(self.height*self.base)\n",
        "    def printDetail(self):\n",
        "        return 'Shape: {} \\n{} \\nArea: {}'.format(self.name,self.get_height_base(),self.area)\n",
        "class trapezoid(Shape):\n",
        "    def __init__(self,name,base,height,side_of_trap):\n",
        "        super().__init__(name,base,height)\n",
        "        self.side_of_trap = side_of_trap\n",
        "    def calcArea(self):\n",
        "        self.area = (.5*(self.side_of_trap + self.base))* self.height\n",
        "    def printDetail(self):\n",
        "        return 'Shape Name: {} \\n{} Side_A: {} \\nArea: {}'.format(self.name,self.get_height_base(),self.side_of_trap,self.area)\n",
        "tri_default = triangle()\n",
        "tri_default.calcArea()\n",
        "print(tri_default.printDetail())\n",
        "print('--------------------------')\n",
        "tri = triangle('Triangle', 10, 5)\n",
        "tri.calcArea()\n",
        "print(tri.printDetail())\n",
        "print('---------------------------')\n",
        "trap = trapezoid('Trapezoid', 10, 6, 4)\n",
        "trap.calcArea()\n",
        "print(trap.printDetail())"
      ]
    },
    {
      "cell_type": "code",
      "execution_count": null,
      "id": "59ce2ce8",
      "metadata": {
        "id": "59ce2ce8",
        "outputId": "5edc74a2-b90a-4ef6-cfe9-3a3dd5fb346a"
      },
      "outputs": [
        {
          "name": "stdout",
          "output_type": "stream",
          "text": [
            "Name: Ronaldo, Team Name: Juventus\n",
            "Team Role:  Striker\n",
            "Total Goal:  25 , Total Played:  32\n",
            "Goal Ratio:  0.78125\n",
            "Match Earning:  25320k\n",
            "------------------------------------------\n",
            "Name: Zidane, Team Name: Real Madrid\n",
            "Team Role:  Manager\n",
            "Total Win:  25\n",
            "Match Earning:  25000k\n"
          ]
        }
      ],
      "source": [
        "#Task_07\n",
        "\n",
        "class Football:\n",
        "    def __init__(self, team_name, name, role):\n",
        "        self.__team = team_name\n",
        "        self.__name = name\n",
        "        self.role = role\n",
        "        self.earning_per_match = 0\n",
        "    def get_name_team(self):\n",
        "        return 'Name: '+self.__name+', Team Name: ' +self.__team\n",
        "\n",
        "class Player(Football):\n",
        "    def __init__(self, team_name,name,role,scored_goals,matches_played):\n",
        "        super().__init__(team_name,name,role)\n",
        "        self.scored_goals = scored_goals\n",
        "        self.matches_played = matches_played\n",
        "    def calculate_ratio(self):\n",
        "        self.goal_ratio = self.scored_goals/self.matches_played\n",
        "        self.earning_per_match = ((self.scored_goals*1000)+(self.matches_played*10))\n",
        "    def print_details(self):\n",
        "        print(self.get_name_team())\n",
        "        print('Team Role: ',self.role)\n",
        "        print('Total Goal: ',self.scored_goals,',','Total Played: ',self.matches_played)\n",
        "        print('Goal Ratio: ',self.goal_ratio)\n",
        "        print('Match Earning: ',str(self.earning_per_match)+'k')\n",
        "class Manager(Football):\n",
        "    def __init__(self,team_name,role,name, matches_won):\n",
        "        super().__init__(team_name,role,name)\n",
        "        self.matches_won = matches_won\n",
        "    def print_details(self):\n",
        "        self.earning_per_match= self.matches_won * 1000\n",
        "        print(self.get_name_team())\n",
        "        print('Team Role: ',self.role)\n",
        "        print('Total Win: ',self.matches_won)\n",
        "        print('Match Earning: ',str(self.earning_per_match)+'k')\n",
        "\n",
        "player_one = Player('Juventus', 'Ronaldo', 'Striker', 25, 32)\n",
        "player_one.calculate_ratio()\n",
        "player_one.print_details()\n",
        "print('------------------------------------------')\n",
        "manager_one = Manager('Real Madrid', 'Zidane', 'Manager', 25)\n",
        "manager_one.print_details()"
      ]
    },
    {
      "cell_type": "code",
      "execution_count": null,
      "id": "d04a5ebb",
      "metadata": {
        "id": "d04a5ebb"
      },
      "outputs": [],
      "source": []
    }
  ],
  "metadata": {
    "kernelspec": {
      "display_name": "Python 3",
      "language": "python",
      "name": "python3"
    },
    "language_info": {
      "codemirror_mode": {
        "name": "ipython",
        "version": 3
      },
      "file_extension": ".py",
      "mimetype": "text/x-python",
      "name": "python",
      "nbconvert_exporter": "python",
      "pygments_lexer": "ipython3",
      "version": "3.8.8"
    },
    "colab": {
      "provenance": []
    }
  },
  "nbformat": 4,
  "nbformat_minor": 5
}