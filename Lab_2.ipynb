{
  "cells": [
    {
      "cell_type": "code",
      "execution_count": null,
      "metadata": {
        "id": "zlbPm75l8w8C",
        "outputId": "76236d99-d596-4cb8-8417-d4fd01d91805"
      },
      "outputs": [
        {
          "name": "stdout",
          "output_type": "stream",
          "text": [
            "Enter the numerator: 5\n",
            "Enter the denominator: 2\n",
            "0.5\n"
          ]
        }
      ],
      "source": [
        "#Assignment_02\n",
        "\n",
        "#Task_01\n",
        "\n",
        "num = int(input('Enter the numerator: '))\n",
        "den = int(input('Enter the denominator: '))\n",
        "\n",
        "def divsior(num,den):\n",
        "    if num == 0 or den == 0:\n",
        "        return print(0)\n",
        "\n",
        "    else:\n",
        "        fraction = num / den - num// den\n",
        "        print(fraction)\n",
        "\n",
        "divsior(num,den)"
      ]
    },
    {
      "cell_type": "code",
      "execution_count": null,
      "metadata": {
        "id": "w4NSUYq58w8D",
        "outputId": "90685067-e5f1-424f-e01e-1328df87a810"
      },
      "outputs": [
        {
          "name": "stdout",
          "output_type": "stream",
          "text": [
            "Height of the perosn: 175\n",
            "Weight of the person: 96\n",
            "Score is 31.3. You are Obese."
          ]
        }
      ],
      "source": [
        "#Task_2\n",
        "\n",
        "height = int(input('Height of the perosn: '))\n",
        "weight = int(input('Weight of the person: '))\n",
        "\n",
        "def BMI(height,weight):\n",
        "    H_in_met = height/100\n",
        "    The_BMI = weight / H_in_met**2\n",
        "    Pattern_BMI = format(The_BMI,'.1f')\n",
        "    if The_BMI > 30:\n",
        "        print('Score is',Pattern_BMI,end ='. You are Obese.')\n",
        "    elif 25 <= The_BMI <= 30:\n",
        "        print('Score is',Pattern_BMI,end='. You are Overweight.')\n",
        "    elif 18.9 <= The_BMI <= 24.9:\n",
        "        print('Score is',Pattern_BMI, end ='. You are Normal.')\n",
        "    else:\n",
        "        print('Score is',Pattern_BMI,end='. You are Underweight.')\n",
        "\n",
        "BMI(height,weight)"
      ]
    },
    {
      "cell_type": "code",
      "execution_count": null,
      "metadata": {
        "id": "6OjOsjIZ8w8D",
        "outputId": "1c70980e-9948-4a78-f3dd-524c0fad51be"
      },
      "outputs": [
        {
          "name": "stdout",
          "output_type": "stream",
          "text": [
            "Enter the minimum range: 3\n",
            "Enter the maximum range: 16\n",
            "Enter the divisor: 3\n",
            "45\n"
          ]
        }
      ],
      "source": [
        "#Task_3\n",
        "\n",
        "minnum = int(input('Enter the minimum range: '))\n",
        "maxnum = int(input('Enter the maximum range: '))\n",
        "div = int(input('Enter the divisor: '))\n",
        "\n",
        "def summation(minnum,maxnum,div):\n",
        "    value = 0\n",
        "    for i in range(minnum,maxnum,div):\n",
        "        if i % div == 0:\n",
        "            value += i\n",
        "\n",
        "        else:\n",
        "            pass\n",
        "    print(value)\n",
        "\n",
        "summation(minnum,maxnum,div)"
      ]
    },
    {
      "cell_type": "code",
      "execution_count": null,
      "metadata": {
        "id": "bemoVJCk8w8E",
        "outputId": "7e83d06b-acc2-4ee5-f99c-f2c83cd79068"
      },
      "outputs": [
        {
          "name": "stdout",
          "output_type": "stream",
          "text": [
            "Enter the burger name: Naga Drums\n",
            "Enter the location of delivery: Dhanmondi\n",
            "276.0\n"
          ]
        }
      ],
      "source": [
        "#Task_4\n",
        "\n",
        "name  = input('Enter the burger name: ')\n",
        "location= input('Enter the location of delivery: ')\n",
        "\n",
        "def func(name,location):\n",
        "    burgers = {'BBQ Chicken Cheese Burger': 250, 'Beef Burger': 170, 'Naga Drums': 200}\n",
        "    bill = 0\n",
        "    if name in burgers and location=='Mohakhali':\n",
        "        bill = burgers[name] + (burgers[name]*8/100) + 40\n",
        "    else:\n",
        "        bill = burgers[name] + (burgers[name]*8/100) + 60\n",
        "\n",
        "    print(bill)\n",
        "\n",
        "func(name,location)"
      ]
    },
    {
      "cell_type": "code",
      "execution_count": null,
      "metadata": {
        "id": "z2YrgLh98w8E",
        "outputId": "9d4b1f6c-7b7e-42e3-c8b5-4e5883a939f0"
      },
      "outputs": [
        {
          "name": "stdout",
          "output_type": "stream",
          "text": [
            "Please enter the email: alice@kaaj.com\n",
            "Please input the domain you want to replace: sheba.xyz\n",
            "Changed:  alice@sheba.xyz\n"
          ]
        }
      ],
      "source": [
        "#Task_5\n",
        "\n",
        "email = input('Please enter the email: ')\n",
        "\n",
        "new_domain = input('Please input the domain you want to replace: ')\n",
        "\n",
        "def func(email,new_domain,old_domain ='kaaj.com'):\n",
        "    if email.endswith('sheba.xyz'):\n",
        "        print('Unchanged:',email)\n",
        "    else:\n",
        "        New_email = email.split(old_domain)\n",
        "        print('Changed: ',New_email[0]+new_domain)\n",
        "\n",
        "func(email,new_domain,old_domain='kaaj.com')"
      ]
    },
    {
      "cell_type": "code",
      "execution_count": null,
      "metadata": {
        "id": "1kGz8TMA8w8E",
        "outputId": "76b42004-a5c8-46c0-cac9-ad5d903ded08"
      },
      "outputs": [
        {
          "name": "stdout",
          "output_type": "stream",
          "text": [
            "Enter the person name: FaIYAZ\n",
            "Vowels: a,I,A. Total number of vowels:  3"
          ]
        }
      ],
      "source": [
        "#Task_6\n",
        "\n",
        "name = input('Enter the person name: ')\n",
        "\n",
        "def func(name):\n",
        "    vowels = 'aeiouAEIOU'\n",
        "    The_name_vowels = ''\n",
        "    count = 0\n",
        "    for i in name:\n",
        "        if i in vowels:\n",
        "            The_name_vowels += i\n",
        "            count += 1\n",
        "\n",
        "    if count>0:\n",
        "        print('Vowels: ',end='')\n",
        "        for i in range(len(The_name_vowels)):\n",
        "            if i == len(The_name_vowels)-1:\n",
        "                print(The_name_vowels[i],end='.')\n",
        "            else:\n",
        "                print(The_name_vowels[i],end=',')\n",
        "\n",
        "        print(' Total number of vowels: ', count, end='')\n",
        "    else:\n",
        "        print('No vowels in the name')#Task_8\n",
        "\n",
        "number_of_days = int(input('Enter the number of total days: '))\n",
        "\n",
        "def year_month_day_calc(number_of_days):\n",
        "    number_of_years = number_of_days // 365\n",
        "    Remainder = number_of_days % 365\n",
        "    number_of_months = Remainder // 30\n",
        "    days = Remainder % 30\n",
        "    print(number_of_years,'years,',number_of_months,'months and',days,'days')\n",
        "\n",
        "year_month_day_calc(number_of_days)\n",
        "\n",
        "\n",
        "\n",
        "func(name)"
      ]
    },
    {
      "cell_type": "code",
      "execution_count": null,
      "metadata": {
        "id": "16BV41KX8w8E",
        "outputId": "32f59a0b-727c-4d9a-e64f-b69b0ae25fdb"
      },
      "outputs": [
        {
          "name": "stdout",
          "output_type": "stream",
          "text": [
            "Enter the string: hello\n",
            "Not Palindrome\n"
          ]
        }
      ],
      "source": [
        "#Task_7\n",
        "\n",
        "inp= input('Enter the string: ')\n",
        "\n",
        "def func(inp):\n",
        "    removed_space = ''\n",
        "    for i in inp:\n",
        "        if i != ' ':\n",
        "            removed_space+= i\n",
        "    reverse = removed_space[-1::-1]\n",
        "    if reverse == removed_space:\n",
        "        print('Palindrome')\n",
        "\n",
        "    else:\n",
        "        print('Not Palindrome')\n",
        "\n",
        "func(inp)"
      ]
    },
    {
      "cell_type": "code",
      "execution_count": null,
      "metadata": {
        "id": "Op1587Ry8w8F",
        "outputId": "85f99c80-448c-4c53-c266-e9018237ceb3"
      },
      "outputs": [
        {
          "name": "stdout",
          "output_type": "stream",
          "text": [
            "Enter all days: 4200\n",
            "11 years, 6 months and 5 days\n"
          ]
        }
      ],
      "source": [
        "#Task_8\n",
        "\n",
        "all_days = int(input('Enter all days: '))\n",
        "\n",
        "def func(all_days):\n",
        "    years = all_days // 365\n",
        "    Rest = all_days % 365\n",
        "    months = Rest // 30\n",
        "    days = Rest % 30\n",
        "    print(years,'years,',months,'months and',days,'days')\n",
        "\n",
        "func(all_days)"
      ]
    },
    {
      "cell_type": "code",
      "execution_count": null,
      "metadata": {
        "id": "DG9uOmxe8w8F",
        "outputId": "9ce8ec00-4e45-4f96-df3a-d88a1a162075"
      },
      "outputs": [
        {
          "name": "stdout",
          "output_type": "stream",
          "text": [
            "Enter a string: my favourite animal is a dog. a dog has sharp teeth so that it can eat flesh very easily. do you know my pet dog’s name? i love my pet very much.\n",
            "My favourite animal is a dog. A dog has sharp teeth so that it can eat flesh very easily. Do you know my pet dog’s name? I love my pet very much.\n"
          ]
        }
      ],
      "source": [
        "#Task_9\n",
        "\n",
        "inp = input(\"Enter a string: \")\n",
        "\n",
        "def func(inp):\n",
        "    string = \"\"\n",
        "    emp = []\n",
        "    for x in range(len(inp)):\n",
        "        if inp[x] == \".\" or inp[x] == '?' or inp[x] == '!':\n",
        "            emp.append(x + 2)\n",
        "    for x in range(len(inp)):\n",
        "        if x == 0:\n",
        "            string += inp[x]\n",
        "            string = string.capitalize()\n",
        "        elif x in emp:\n",
        "            string += inp[x].upper()\n",
        "        else:\n",
        "            string += inp[x]\n",
        "    if ' i ' in string:\n",
        "        string = string.replace(\" i \", \" I \")\n",
        "    print(string)\n",
        "\n",
        "func(inp)"
      ]
    }
  ],
  "metadata": {
    "kernelspec": {
      "display_name": "Python 3",
      "language": "python",
      "name": "python3"
    },
    "language_info": {
      "codemirror_mode": {
        "name": "ipython",
        "version": 3
      },
      "file_extension": ".py",
      "mimetype": "text/x-python",
      "name": "python",
      "nbconvert_exporter": "python",
      "pygments_lexer": "ipython3",
      "version": "3.8.5"
    },
    "colab": {
      "provenance": []
    }
  },
  "nbformat": 4,
  "nbformat_minor": 0
}