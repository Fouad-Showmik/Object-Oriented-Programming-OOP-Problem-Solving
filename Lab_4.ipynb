{
  "cells": [
    {
      "cell_type": "code",
      "execution_count": null,
      "metadata": {
        "id": "uxH92XHC9B0-",
        "outputId": "1dfc34a3-6b48-4ad1-f59a-158d3f4980ad"
      },
      "outputs": [
        {
          "name": "stdout",
          "output_type": "stream",
          "text": [
            "Let's Calculate!\n",
            "Value 1: 1\n",
            "Operator: +\n",
            "Value 2: 2\n",
            "Result: 3\n"
          ]
        }
      ],
      "source": [
        "#Question_1\n",
        "\n",
        "class Calculator:\n",
        "    def __init__(self):\n",
        "        print(\"Let's Calculate!\")\n",
        "    def add(self, num1, num2):\n",
        "        addition = num1 + num2\n",
        "        return addition\n",
        "    def subtract(self, num1, num2):\n",
        "        subtraction = num1 - num2\n",
        "        return subtraction\n",
        "    def multipy(self, num1, num2):\n",
        "        multiplication = num1 * num2\n",
        "        return multiplication\n",
        "    def divide(self, num1, num2):\n",
        "        division = num1 / num2\n",
        "        return division\n",
        "\n",
        "calculate = Calculator()\n",
        "num1 = int(input('Value 1: '))\n",
        "operator_sign = input('Operator: ')\n",
        "num2 = int (input('Value 2: '))\n",
        "if operator_sign == \"+\":\n",
        "    print(\"Result:\", calculate.add(num1, num2))\n",
        "elif operator_sign == \"-\":\n",
        "    print(\"Result:\", calculate.subtract(num1, num2))\n",
        "elif operator_sign == \"*\":\n",
        "    print(\"Result:\", calculate.multipy(num1, num2))\n",
        "elif operator_sign == \"/\":\n",
        "    print(\"Result:\", calculate.divide(num1, num2))"
      ]
    },
    {
      "cell_type": "code",
      "execution_count": null,
      "metadata": {
        "id": "h33d6R9r9B1A",
        "outputId": "acfde6d1-38ec-4412-9c47-670cec58d9d6"
      },
      "outputs": [
        {
          "name": "stdout",
          "output_type": "stream",
          "text": [
            "Hello!\n",
            "Sam, you purchased 3 item(s):\n",
            "chips\n",
            "chocolate\n",
            "orange juice\n",
            "-----------------------------\n",
            "Hello David!\n",
            "David, you purchased 1 item(s):\n",
            "orange juice\n"
          ]
        }
      ],
      "source": [
        "# Question_2\n",
        "\n",
        "class Customer:\n",
        "\n",
        "    def __init__(self,name = None, *lst1):\n",
        "        self.name = name\n",
        "        self.lst1 = lst1\n",
        "\n",
        "    def greet(self, name = None):\n",
        "        if name != None:\n",
        "            print('Hello',self.name+'!')\n",
        "        else:\n",
        "            print('Hello!')\n",
        "\n",
        "    def purchase(self,*lst1):\n",
        "        print(self.name+',','you purchased',len(lst1),'item(s):')\n",
        "        for i in lst1:\n",
        "            print(i)\n",
        "\n",
        "customer1 = Customer(\"Sam\")\n",
        "customer1.greet()\n",
        "customer1.purchase(\"chips\", \"chocolate\", \"orange juice\")\n",
        "print(\"-----------------------------\")\n",
        "customer2 = Customer(\"David\")\n",
        "customer2.greet(\"David\")\n",
        "customer2.purchase(\"orange juice\")"
      ]
    },
    {
      "cell_type": "code",
      "execution_count": null,
      "metadata": {
        "id": "rMBpq9AZ9B1A",
        "outputId": "953bcf2e-dbf0-4c24-b08f-7bc9c6308a91"
      },
      "outputs": [
        {
          "name": "stdout",
          "output_type": "stream",
          "text": [
            "Kunfu is a Male Panda Bear who is 5 years old\n",
            "Pan Pan is a Female Panda Bear who is 3 years old\n",
            "Ming Ming is a Female Panda Bear who is 8 years old\n",
            "===========================\n",
            "Pan Pan sleeps 10 hours daily and should have Broccoli Chicken\n",
            "Kunfu sleeps 4 hours daily and should have Mixed Veggies\n",
            "Ming Ming's duration is unknown and should have bamboo leaves\n"
          ]
        }
      ],
      "source": [
        "# Question_3\n",
        "\n",
        "class Panda:\n",
        "    def __init__(self,name,gender,age):\n",
        "        self.name = name\n",
        "        self.gender = gender\n",
        "        self.age = age\n",
        "    def sleep(self,hours_of_sleep = None):\n",
        "        if hours_of_sleep == None:\n",
        "            return \"{}'s duration is unknown and should have bamboo leaves\".format(self.name)\n",
        "        elif 3 <= hours_of_sleep <= 5:\n",
        "            return '{} sleeps {} hours daily and should have Mixed Veggies'.format(self.name,hours_of_sleep)\n",
        "        elif 6 <= hours_of_sleep <= 8:\n",
        "            return '{} sleeps {} hours daily and should have Eggplant and Tofu'.format(self.name,hours_of_sleep)\n",
        "        elif 9 <= hours_of_sleep <= 11:\n",
        "            return '{} sleeps {} hours daily and should have Broccoli Chicken'.format(self.name,hours_of_sleep)\n",
        "        else:\n",
        "            pass\n",
        "\n",
        "panda1 = Panda(\"Kunfu\", \"Male\", 5)\n",
        "panda2 = Panda(\"Pan Pan\", \"Female\", 3)\n",
        "panda3 = Panda(\"Ming Ming\", \"Female\", 8)\n",
        "print(\"{} is a {} Panda Bear who is {} years old\".format(panda1.name, panda1.gender, panda1.age))\n",
        "print(\"{} is a {} Panda Bear who is {} years old\".format(panda2.name, panda2.gender, panda2.age))\n",
        "print(\"{} is a {} Panda Bear who is {} years old\".format(panda3.name, panda3.gender, panda3.age))\n",
        "print(\"===========================\")\n",
        "print(panda2.sleep(10))\n",
        "print(panda1.sleep(4))\n",
        "print(panda3.sleep())"
      ]
    },
    {
      "cell_type": "code",
      "execution_count": null,
      "metadata": {
        "id": "DS8dcGLb9B1B",
        "outputId": "307939af-f492-49d5-9b15-b54edbf481b7"
      },
      "outputs": [
        {
          "name": "stdout",
          "output_type": "stream",
          "text": [
            "White cat is sitting\n",
            "Black cat is sitting\n",
            "Brown cat is jumping\n",
            "Red cat is purring\n",
            "Blue cat is sitting\n",
            "Purple cat is jumping\n"
          ]
        }
      ],
      "source": [
        "#Question_4\n",
        "\n",
        "class Cat:\n",
        "\n",
        "    def __init__(self, color = None,action = None):\n",
        "        self.color = color\n",
        "        self.action = action\n",
        "        if color == None and action == None:\n",
        "            self.color = 'White'\n",
        "            self.action = 'sitting'\n",
        "        elif color != None and action == None:\n",
        "            self.action = 'sitting'\n",
        "        elif color == None and action != None:\n",
        "            self.color = 'White'\n",
        "        else:\n",
        "            pass\n",
        "\n",
        "    def printcat(self):\n",
        "        print(f'{self.color} cat is {self.action}')\n",
        "    def cngcolor(self,color):\n",
        "        self.color = color\n",
        "\n",
        "c1 = Cat()\n",
        "c2 = Cat(\"Black\")\n",
        "c3 = Cat(\"Brown\", \"jumping\")\n",
        "c4 = Cat(\"Red\", \"purring\")\n",
        "c1.printcat()\n",
        "c2.printcat()\n",
        "c3.printcat()\n",
        "c4.printcat()\n",
        "c1.cngcolor(\"Blue\")\n",
        "c3.cngcolor(\"Purple\")\n",
        "c1.printcat()\n",
        "c3.printcat()"
      ]
    },
    {
      "cell_type": "code",
      "execution_count": null,
      "metadata": {
        "id": "6kGOZDsX9B1B",
        "outputId": "661496fa-2622-4e9c-eb72-c4fd02086bbb"
      },
      "outputs": [
        {
          "name": "stdout",
          "output_type": "stream",
          "text": [
            "--------------------------------\n",
            "Hello default student\n",
            "Your average score is 3.3333333333333335\n",
            "--------------------------------\n",
            "Hello Harry\n",
            "Your average score is 6.0\n",
            "--------------------------------\n",
            "Hello Hermione\n",
            "Your average score is 9.666666666666666\n"
          ]
        }
      ],
      "source": [
        "#Question_5\n",
        "\n",
        "class Student:\n",
        "    def __init__(self,name = None):\n",
        "        if name == None:\n",
        "            self.name = 'default student'\n",
        "        else:\n",
        "            self.name = name\n",
        "    def printdetail(self):\n",
        "        print('Hello {}'.format(self.name))\n",
        "        print('Your average score is',self.average)\n",
        "    def quizcalc(self, *score):\n",
        "        total = sum(score)\n",
        "        self.average = total / 3\n",
        "\n",
        "s1 = Student()\n",
        "s1.quizcalc(10)\n",
        "print('--------------------------------')\n",
        "s1.printdetail()\n",
        "s2 = Student('Harry')\n",
        "s2.quizcalc(10, 8)\n",
        "print('--------------------------------')\n",
        "s2.printdetail()\n",
        "s3 = Student('Hermione')\n",
        "s3.quizcalc(10, 9, 10)\n",
        "print('--------------------------------')\n",
        "s3.printdetail()"
      ]
    },
    {
      "cell_type": "code",
      "execution_count": null,
      "metadata": {
        "id": "vJpAvlIx9B1B",
        "outputId": "cd6c9dd7-5f42-46fa-edf4-ceb1189eede2"
      },
      "outputs": [
        {
          "name": "stdout",
          "output_type": "stream",
          "text": [
            "(0, 0)\n",
            "(0, 1)\n",
            "(-1, 1)\n",
            "(-1, 0)\n"
          ]
        }
      ],
      "source": [
        "#Question_6\n",
        "\n",
        "class Vehicle:\n",
        "\n",
        "    def __init__(self,x = None,y = None):\n",
        "        if x == None and y == None:\n",
        "            self.x = 0\n",
        "            self.y = 0\n",
        "        else:\n",
        "            self.x = x\n",
        "            self.y = y\n",
        "\n",
        "    def print_position(self):\n",
        "        print((self.x,self.y))\n",
        "\n",
        "    def moveUp(self):\n",
        "        self.y += 1\n",
        "    def moveLeft(self):\n",
        "        self.x -= 1\n",
        "    def moveDown(self):\n",
        "        self.y-= 1\n",
        "    def moveRight(self):\n",
        "        self.x += 1\n",
        "\n",
        "car = Vehicle()\n",
        "car.print_position()\n",
        "car.moveUp()\n",
        "car.print_position()\n",
        "car.moveLeft()\n",
        "car.print_position()\n",
        "car.moveDown()\n",
        "car.print_position()\n",
        "car.moveRight()"
      ]
    },
    {
      "cell_type": "code",
      "execution_count": null,
      "metadata": {
        "id": "RUWnJP1E9B1C",
        "outputId": "b9e59ed3-3f87-4a79-9c82-35c6634134cf"
      },
      "outputs": [
        {
          "name": "stdout",
          "output_type": "stream",
          "text": [
            "Horray! A new programmer is born\n",
            "Name : Ethen Hunt \n",
            "Language : Java \n",
            "Experience : 10 years\n",
            "--------------------------\n",
            "Horray! A new programmer is born\n",
            "Name : James Bond \n",
            "Language : C++ \n",
            "Experience : 7 years\n",
            "--------------------------\n",
            "Horray! A new programmer is born\n",
            "Name : Jon Snow \n",
            "Language : Python \n",
            "Experience : 4 years\n",
            "Updating experience of Jon Snow\n",
            "Name : Jon Snow \n",
            "Language : Python \n",
            "Experience : 9 years\n"
          ]
        }
      ],
      "source": [
        "#Question_7\n",
        "\n",
        "class Programmer:\n",
        "    def __init__(self,name,language,experience=None):\n",
        "        self.name=name\n",
        "        self.language=language\n",
        "        self.experience=experience\n",
        "        print('Horray! A new programmer is born')\n",
        "    def addExp(self,experience):\n",
        "        print('Updating experience of',self.name)\n",
        "        self.experience=experience + self.experience\n",
        "    def printDetails(self):\n",
        "        print('Name :',self.name,'\\nLanguage :',self.language,'\\nExperience :',self.experience,'years')\n",
        "\n",
        "\n",
        "p1 = Programmer(\"Ethen Hunt\", \"Java\", 10)\n",
        "p1.printDetails()\n",
        "print('--------------------------')\n",
        "p2 = Programmer(\"James Bond\", \"C++\", 7)\n",
        "p2.printDetails()\n",
        "print('--------------------------')\n",
        "p3 = Programmer(\"Jon Snow\", \"Python\", 4)\n",
        "p3.printDetails()\n",
        "p3.addExp(5)\n",
        "p3.printDetails()"
      ]
    },
    {
      "cell_type": "code",
      "execution_count": null,
      "metadata": {
        "id": "7sw4HMPU9B1C",
        "outputId": "d96d4f8d-8857-4a52-bcd3-aed0a8ecd49a"
      },
      "outputs": [
        {
          "name": "stdout",
          "output_type": "stream",
          "text": [
            "Name:  Harry Potter\n",
            "ID:  123\n",
            "Department:  CSE\n",
            "Daily effort:  3 hours\n",
            "Suggestion: Keep up the good work!\n",
            "========================\n",
            "Name:  John Wick\n",
            "ID:  456\n",
            "Department:  BBA\n",
            "Daily effort:  2 hours\n",
            "Suggestion: Should give more effort!\n",
            "========================\n",
            "Name:  Naruto Uzumaki\n",
            "ID:  777\n",
            "Department:  Ninja\n",
            "Daily effort:  6 hours\n",
            "Suggestion: Excellent! Now motivate others.\n"
          ]
        }
      ],
      "source": [
        "#Question_8\n",
        "\n",
        "class Student:\n",
        "    def __init__(self,name,ID,department = 'CSE'):\n",
        "        self.name = name\n",
        "        self.ID = ID\n",
        "        self.department = department\n",
        "\n",
        "    def dailyEffort(self,time):\n",
        "        self.time = time\n",
        "    def printDetails(self):\n",
        "        print('Name: ',self.name)\n",
        "        print('ID: ',self.ID)\n",
        "        print('Department: ',self.department)\n",
        "        print('Daily effort: ',self.time,'hours')\n",
        "        if self.time <= 2:\n",
        "            print('Suggestion: Should give more effort!')\n",
        "        elif self.time <= 4 :\n",
        "            print('Suggestion: Keep up the good work!')\n",
        "        else:\n",
        "            print('Suggestion: Excellent! Now motivate others.')\n",
        "\n",
        "harry = Student('Harry Potter', 123)\n",
        "harry.dailyEffort(3)\n",
        "harry.printDetails()\n",
        "print('========================')\n",
        "john = Student(\"John Wick\", 456, \"BBA\")\n",
        "john.dailyEffort(2)\n",
        "john.printDetails()\n",
        "print('========================')\n",
        "naruto = Student(\"Naruto Uzumaki\", 777, \"Ninja\")\n",
        "naruto.dailyEffort(6)\n",
        "naruto.printDetails()"
      ]
    },
    {
      "cell_type": "code",
      "execution_count": null,
      "metadata": {
        "id": "2Q2Yt4sA9B1C",
        "outputId": "2de23f6d-cb70-4a7b-a27a-045e8b2b8d4e"
      },
      "outputs": [
        {
          "name": "stdout",
          "output_type": "stream",
          "text": [
            "=========================\n",
            "Name:  Thomas\n",
            "Age:  23\n",
            "Symptoms:  Headache\n",
            "=========================\n",
            "Name:  Carol\n",
            "Age:  20\n",
            "Symptoms:  Vomiting, Coughing\n",
            "=========================\n",
            "Name:  Mike\n",
            "Age:  25\n",
            "Symptoms:  Fever, Headache, Coughing\n",
            "=========================\n"
          ]
        }
      ],
      "source": [
        "#Question_9\n",
        "\n",
        "class Patient:\n",
        "    def __init__(self,name,age):\n",
        "        self.name = name\n",
        "        self.age = age\n",
        "    def add_Symptom(self,*symptoms):\n",
        "        self.symptoms = symptoms\n",
        "\n",
        "    def printPatientDetail(self):\n",
        "        print('Name: ',self.name)\n",
        "        print('Age: ',self.age)\n",
        "        The_symptoms = ', '.join(self.symptoms)\n",
        "        print('Symptoms: ',The_symptoms)\n",
        "\n",
        "p1 = Patient('Thomas', 23)\n",
        "p1.add_Symptom('Headache')\n",
        "p2 = Patient('Carol', 20)\n",
        "p2.add_Symptom('Vomiting','Coughing')\n",
        "p3 = Patient('Mike', 25)\n",
        "p3.add_Symptom('Fever','Headache','Coughing')\n",
        "print(\"=========================\")\n",
        "p1.printPatientDetail()\n",
        "print(\"=========================\")\n",
        "p2.printPatientDetail()\n",
        "print(\"=========================\")\n",
        "p3.printPatientDetail()\n",
        "print(\"=========================\")"
      ]
    },
    {
      "cell_type": "code",
      "execution_count": null,
      "metadata": {
        "id": "KFId-1TI9B1C",
        "outputId": "81285eee-4b7b-4543-8e61-8917256a14eb"
      },
      "outputs": [
        {
          "name": "stdout",
          "output_type": "stream",
          "text": [
            "=========================\n",
            "Name : Captain America\n",
            "Partner : Bucky Barnes\n",
            "Super powers : Stamina, Slowed ageing\n",
            "=========================\n",
            "Name : Doctor Strange\n",
            "Partner : Ancient One\n",
            "Super powers : Mastery of magic\n",
            "=========================\n",
            "Name : Iron Man\n",
            "Partner : War Machine\n",
            "Super powers : Genius level intellect, Scientist \n",
            "=========================\n"
          ]
        }
      ],
      "source": [
        "#Question_10\n",
        "\n",
        "class Avengers:\n",
        "    def __init__(self,name,partner):\n",
        "        self.name=name\n",
        "        self.partner=partner\n",
        "    def super_powers(self,*superpowers):\n",
        "        self.superpowers=superpowers\n",
        "    def printAvengersDetail(self):\n",
        "        print('Name :',self.name)\n",
        "        print('Partner :',self.partner)\n",
        "        output_of_powers = ', '.join(self.superpowers)\n",
        "        print('Super powers :',output_of_powers)\n",
        "a1 = Avengers('Captain America', 'Bucky Barnes')\n",
        "a1.super_powers('Stamina', 'Slowed ageing')\n",
        "a2 = Avengers('Doctor Strange', 'Ancient One')\n",
        "a2.super_powers('Mastery of magic')\n",
        "a3 = Avengers('Iron Man', 'War Machine')\n",
        "a3.super_powers('Genius level intellect', 'Scientist ')\n",
        "print(\"=========================\")\n",
        "a1.printAvengersDetail()\n",
        "print(\"=========================\")\n",
        "a2.printAvengersDetail()\n",
        "print(\"=========================\")\n",
        "a3.printAvengersDetail()\n",
        "print(\"=========================\")"
      ]
    },
    {
      "cell_type": "code",
      "execution_count": null,
      "metadata": {
        "id": "FoNNN9lc9B1D",
        "outputId": "a8b3cba2-289d-4088-f683-051c5f61c238"
      },
      "outputs": [
        {
          "name": "stdout",
          "output_type": "stream",
          "text": [
            "Name: Naruto\n",
            "Rank: Genin\n",
            "Number of missions: 5\n",
            "Salary: 250\n",
            "====================\n",
            "Name: Shikamaru\n",
            "Rank: Genin\n",
            "Number of missions: 0\n",
            "Salary: 0\n",
            "Name: Shikamaru\n",
            "Rank: Chunin\n",
            "Number of missions: 10\n",
            "Salary: 1000\n",
            "====================\n",
            "Name: Neiji\n",
            "Rank: Jonin\n",
            "Number of missions: 5\n",
            "Salary: 2500\n"
          ]
        }
      ],
      "source": [
        "#Question_11\n",
        "\n",
        "class Shinobi:\n",
        "    def __init__(self,name,rank,mission = 0, salary = 0):\n",
        "        self.name = name\n",
        "        self.rank = rank\n",
        "        self.mission = mission\n",
        "        self.salary =salary\n",
        "\n",
        "    def changeRank(self,rank):\n",
        "        self.rank = rank\n",
        "\n",
        "    def calSalary(self,mission):\n",
        "        self.mission = mission\n",
        "        if self.rank == 'Genin':\n",
        "            self.salary = self.mission*50\n",
        "        elif self.rank == 'Chunin':\n",
        "            self.salary = self.mission*100\n",
        "        else:\n",
        "            self.salary = self.mission*500\n",
        "\n",
        "    def printInfo(self):\n",
        "        print('Name:',self.name)\n",
        "        print('Rank:',self.rank)\n",
        "        print('Number of missions:',self.mission)\n",
        "        print('Salary:',self.salary)\n",
        "\n",
        "naruto = Shinobi(\"Naruto\", \"Genin\")\n",
        "naruto.calSalary(5)\n",
        "naruto.printInfo()\n",
        "print('====================')\n",
        "shikamaru = Shinobi('Shikamaru', \"Genin\")\n",
        "shikamaru.printInfo()\n",
        "shikamaru.changeRank(\"Chunin\")\n",
        "shikamaru.calSalary(10)\n",
        "shikamaru.printInfo()\n",
        "print('====================')\n",
        "neiji = Shinobi(\"Neiji\", \"Jonin\")\n",
        "neiji.calSalary(5)\n",
        "neiji.printInfo()"
      ]
    },
    {
      "cell_type": "code",
      "execution_count": null,
      "metadata": {
        "id": "n2T43O1P9B1D",
        "outputId": "913c059e-853d-4221-f214-f7e6a3b06218"
      },
      "outputs": [
        {
          "name": "stdout",
          "output_type": "stream",
          "text": [
            "**********************\n",
            "Customer name: No name set\n",
            "Product Weight 0\n",
            "Total fee:  0\n",
            "**********************\n",
            "Customer name: Bob The Builder\n",
            "Product Weight 0\n",
            "Total fee:  0\n",
            "----------------------------\n",
            "Customer name: Bob The Builder\n",
            "Product Weight 15\n",
            "Total fee:  350\n",
            "**********************\n",
            "Customer name: Dora The Explorer\n",
            "Product Weight 10\n",
            "Total fee:  300\n"
          ]
        }
      ],
      "source": [
        "#Question_12\n",
        "\n",
        "class ParcelKoro:\n",
        "    def __init__(self,name = 'No name set', weight = 0):\n",
        "        self.name = name\n",
        "        self.product_weight = weight\n",
        "\n",
        "    def calculateFee(self,location = None):\n",
        "        if self.product_weight == 0:\n",
        "            self.total_fee = 0\n",
        "        elif location == None:\n",
        "            self.total_fee = self.product_weight*20 + 50\n",
        "        else:\n",
        "            self.total_fee = self.product_weight*20 + 100\n",
        "\n",
        "    def printDetails(self):\n",
        "        print('Customer name:',self.name)\n",
        "        print('Product Weight',self.product_weight)\n",
        "        print('Total fee: ',self.total_fee)\n",
        "\n",
        "print(\"**********************\")\n",
        "p1 = ParcelKoro()\n",
        "p1.calculateFee()\n",
        "p1.printDetails()\n",
        "print(\"**********************\")\n",
        "p2 = ParcelKoro('Bob The Builder')\n",
        "p2.calculateFee()\n",
        "p2.printDetails()\n",
        "print(\"----------------------------\")\n",
        "p2.product_weight = 15\n",
        "p2.calculateFee()\n",
        "p2.printDetails()\n",
        "print(\"**********************\")\n",
        "p3 = ParcelKoro('Dora The Explorer', 10)\n",
        "p3.calculateFee('Dhanmondi')\n",
        "p3.printDetails()"
      ]
    },
    {
      "cell_type": "code",
      "execution_count": null,
      "metadata": {
        "id": "HuKEOcmI9B1D",
        "outputId": "c15286d5-9b83-46eb-a341-f480d5841ade"
      },
      "outputs": [
        {
          "name": "stdout",
          "output_type": "stream",
          "text": [
            "Name:  New Batsman \n",
            "Runs Scored : 6101 , Balls Faced : 7380\n",
            "============================\n",
            "Name:  Liton Das \n",
            "Runs Scored : 678 , Balls Faced : 773\n",
            "----------------------------\n",
            "87.71021992238033\n",
            "============================\n",
            "Name:  Shakib Al Hasan \n",
            "Runs Scored : 6101 , Balls Faced : 7380\n",
            "----------------------------\n",
            "82.66937669376694\n"
          ]
        }
      ],
      "source": [
        "#Question_13\n",
        "\n",
        "class Batsman:\n",
        "    def __init__(self,*statistics_of_batsman):\n",
        "        if len(statistics_of_batsman) == 3:\n",
        "            self.name=statistics_of_batsman[0]\n",
        "            self.runs = statistics_of_batsman[1]\n",
        "            self.balls = statistics_of_batsman[2]\n",
        "        elif len(statistics_of_batsman) == 2:\n",
        "            self.name='New Batsman'\n",
        "            self.runs = statistics_of_batsman[0]\n",
        "            self.balls = statistics_of_batsman[1]\n",
        "        else:\n",
        "            pass\n",
        "    def setName(self,name):\n",
        "        self.name=name\n",
        "    def battingStrikeRate(self):\n",
        "        self.batting_Strike_Rate=(self.runs/self.balls)*100\n",
        "        return( self.batting_Strike_Rate)\n",
        "    def printCareerStatistics(self):\n",
        "        print('Name: ',self.name,'\\nRuns Scored :',self.runs,',','Balls Faced :',self.balls)\n",
        "\n",
        "b1 = Batsman(6101, 7380)\n",
        "b1.printCareerStatistics()\n",
        "print(\"============================\")\n",
        "b2 = Batsman(\"Liton Das\", 678, 773)\n",
        "b2.printCareerStatistics()\n",
        "print(\"----------------------------\")\n",
        "print(b2.battingStrikeRate())\n",
        "print(\"============================\")\n",
        "b1.setName(\"Shakib Al Hasan\")\n",
        "b1.printCareerStatistics()\n",
        "print(\"----------------------------\")\n",
        "print(b1.battingStrikeRate())"
      ]
    },
    {
      "cell_type": "code",
      "execution_count": null,
      "metadata": {
        "id": "VvH8Kth79B1D",
        "outputId": "99176f3e-875b-4b61-a50c-818b49c0bbb7"
      },
      "outputs": [
        {
          "name": "stdout",
          "output_type": "stream",
          "text": [
            "===================\n",
            "Name: Manchester United\n",
            "Song: Glory Glory Man United\n",
            "Total No of title: 0\n",
            "##################\n",
            "Name: Manchester United\n",
            "Song: Glory Glory Man United\n",
            "Total No of title: 1\n",
            "===================\n",
            "Name: Chelsea\n",
            "Song: No Slogan\n",
            "Total No of title: 0\n",
            "Name: Chelsea\n",
            "Song: Keep the blue flag flying high\n",
            "Total No of title: 0\n"
          ]
        }
      ],
      "source": [
        "#Question_14\n",
        "\n",
        "class EPL_Team:\n",
        "    def __init__(self,*team_info):\n",
        "        if len(team_info) == 2:\n",
        "            self.name = team_info[0]\n",
        "            self.slogan = team_info[1]\n",
        "            self.increase_titles = 0\n",
        "        elif len(team_info) == 1:\n",
        "            self.name = team_info[0]\n",
        "            self.slogan = 'No Slogan'\n",
        "            self.increase_titles = 0\n",
        "        else:\n",
        "            pass\n",
        "\n",
        "    def increaseTitle(self):\n",
        "        self.increase_titles += 1\n",
        "    def changeSong(self,slogan):\n",
        "        self.slogan = slogan\n",
        "    def showClubInfo(self):\n",
        "        return (f'Name: {self.name}\\nSong: {self.slogan}\\nTotal No of title: {self.increase_titles}')\n",
        "\n",
        "manu = EPL_Team('Manchester United', 'Glory Glory Man United')\n",
        "chelsea = EPL_Team('Chelsea')\n",
        "print('===================')\n",
        "print(manu.showClubInfo())\n",
        "print('##################')\n",
        "manu.increaseTitle()\n",
        "print(manu.showClubInfo())\n",
        "print('===================')\n",
        "print(chelsea.showClubInfo())\n",
        "chelsea.changeSong('Keep the blue flag flying high')\n",
        "print(chelsea.showClubInfo())"
      ]
    },
    {
      "cell_type": "code",
      "execution_count": null,
      "metadata": {
        "id": "QxoQ7w8u9B1D",
        "outputId": "913b97a9-bd56-42e4-d331-be4eb097f380"
      },
      "outputs": [
        {
          "name": "stdout",
          "output_type": "stream",
          "text": [
            "Default Account\n",
            "0.0\n",
            "------------------------\n",
            "Oliver\n",
            "10000.0\n",
            "------------------------\n",
            "Liam\n",
            "0.0\n",
            "------------------------\n",
            "Noah\n",
            "400.0\n",
            "------------------------\n",
            "Sorry, Withdraw unsuccessful! The account balance after deducting withdraw amount is equal to or less than minimum.\n",
            "------------------------\n",
            "Sorry, Withdraw unsuccessful! The account balance after deducting withdraw amount is equal to or less than minimum.\n",
            "------------------------\n",
            "Withdraw successful! New balance is: 3071.0\n"
          ]
        }
      ],
      "source": [
        "#Question_15\n",
        "\n",
        "class Account:\n",
        "    def __init__(self,name = None, balance = None):\n",
        "        if name == None:\n",
        "            self.name = 'Default Account'\n",
        "        else:\n",
        "            self.name = name\n",
        "        if balance == None:\n",
        "            self.balance = 0\n",
        "        else:\n",
        "            self.balance = balance\n",
        "    def withdraw(self,amount_after_withdrawal):\n",
        "        self.amount_after_withdrawal = amount_after_withdrawal\n",
        "        self.amount_after_withdrawal = self.balance - self.amount_after_withdrawal\n",
        "        if self.amount_after_withdrawal > 3070:\n",
        "            print('Withdraw successful! New balance is:',self.amount_after_withdrawal)\n",
        "        else:\n",
        "            print('Sorry, Withdraw unsuccessful! The account balance after deducting withdraw amount is equal to or less than minimum.')\n",
        "    def details(self):\n",
        "        return (f'{self.name}\\n{self.balance:.1f}')\n",
        "\n",
        "a1 = Account()\n",
        "print(a1.details())\n",
        "print(\"------------------------\")\n",
        "a1.name = \"Oliver\"\n",
        "a1.balance = 10000.0\n",
        "print(a1.details())\n",
        "print(\"------------------------\")\n",
        "a2 = Account(\"Liam\")\n",
        "print(a2.details())\n",
        "print(\"------------------------\")\n",
        "a3 = Account(\"Noah\",400)\n",
        "print(a3.details())\n",
        "print(\"------------------------\")\n",
        "a1.withdraw(6930)\n",
        "print(\"------------------------\")\n",
        "a2.withdraw(600)\n",
        "print(\"------------------------\")\n",
        "a1.withdraw(6929)"
      ]
    },
    {
      "cell_type": "code",
      "execution_count": null,
      "metadata": {
        "id": "yxsIpbA69B1E",
        "outputId": "530b25a2-f072-4917-af32-036760e77318"
      },
      "outputs": [
        {
          "name": "stdout",
          "output_type": "stream",
          "text": [
            "Author Name:  Humayun Ahmed\n",
            "--------\n",
            "List of Books:\n",
            "Deyal\n",
            "Megher Opor Bari\n",
            "===================\n",
            "Default\n",
            "===================\n",
            "Author Name:  Mario Puzo\n",
            "--------\n",
            "List of Books:\n",
            "The Godfather\n",
            "Omerta\n",
            "The Sicilian\n",
            "===================\n",
            "Author Name:  Paolo Coelho\n",
            "--------\n",
            "List of Books:\n",
            "The Alchemist\n",
            "The Fifth Mountain\n"
          ]
        }
      ],
      "source": [
        "#Question_16\n",
        "\n",
        "class Author:\n",
        "    def __init__(self,*name):\n",
        "        if len(name) == 0:\n",
        "            self.name = 'Default'\n",
        "        elif len(name) == 1:\n",
        "            self.name = name[0]\n",
        "        else:\n",
        "            self.name = name[0]\n",
        "            self.book_title = name[1],name[2]\n",
        "\n",
        "    def changeName(self,name):\n",
        "        self.name = name\n",
        "    def addBooks(self,*book_titles):\n",
        "        if len(book_titles) == 2:\n",
        "            self.book_title = book_titles[0],book_titles[1]\n",
        "        elif len(book_titles) == 3:\n",
        "            self.book_title = book_titles[0],book_titles[1],book_titles[2]\n",
        "        else:\n",
        "            pass\n",
        "    def printDetails(self):\n",
        "        print('Author Name: ',self.name)\n",
        "        print('--------')\n",
        "        print('List of Books:')\n",
        "        for i in self.book_title:\n",
        "            print(i)\n",
        "\n",
        "\n",
        "auth1 = Author('Humayun Ahmed')\n",
        "auth1.addBooks('Deyal', 'Megher Opor Bari')\n",
        "auth1.printDetails()\n",
        "print('===================')\n",
        "auth2 = Author()\n",
        "print(auth2.name)\n",
        "auth2.changeName('Mario Puzo')\n",
        "auth2.addBooks('The Godfather', 'Omerta', 'The Sicilian')\n",
        "print('===================')\n",
        "auth2.printDetails()\n",
        "print('===================')\n",
        "auth3 = Author('Paolo Coelho', 'The Alchemist', 'The Fifth Mountain')\n",
        "auth3.printDetails()"
      ]
    },
    {
      "cell_type": "code",
      "execution_count": null,
      "metadata": {
        "id": "zTtsIDjW9B1E"
      },
      "outputs": [],
      "source": []
    }
  ],
  "metadata": {
    "kernelspec": {
      "display_name": "Python 3",
      "language": "python",
      "name": "python3"
    },
    "language_info": {
      "codemirror_mode": {
        "name": "ipython",
        "version": 3
      },
      "file_extension": ".py",
      "mimetype": "text/x-python",
      "name": "python",
      "nbconvert_exporter": "python",
      "pygments_lexer": "ipython3",
      "version": "3.8.5"
    },
    "colab": {
      "provenance": []
    }
  },
  "nbformat": 4,
  "nbformat_minor": 0
}