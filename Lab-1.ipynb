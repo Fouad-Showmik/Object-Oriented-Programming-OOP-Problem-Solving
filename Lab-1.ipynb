{
  "cells": [
    {
      "cell_type": "code",
      "execution_count": null,
      "metadata": {
        "id": "Q9Wlnx-t8ado",
        "outputId": "e62af504-ac24-4e32-ab88-2ce31e983380"
      },
      "outputs": [
        {
          "name": "stdout",
          "output_type": "stream",
          "text": [
            "Please enter a string: BaNaNa\n",
            "banana\n"
          ]
        }
      ],
      "source": [
        "#String\n",
        "\n",
        "#Task 1\n",
        "\n",
        "string = input('Enter a string: ')\n",
        "\n",
        "upperlet = 0\n",
        "lowerlet = 0\n",
        "\n",
        "for i in string:\n",
        "    if 'a' <= i <= 'z':\n",
        "        lowerlet+=1\n",
        "    else:\n",
        "        upperlet+=1\n",
        "\n",
        "if lowerlet >= upperlet:\n",
        "    print(string.lower())\n",
        "else:\n",
        "    print(string.upper())"
      ]
    },
    {
      "cell_type": "code",
      "execution_count": null,
      "metadata": {
        "id": "KTpCROvx8adq",
        "outputId": "a9ca6086-0a7e-4ce0-f7de-9dd9db2e1bf2"
      },
      "outputs": [
        {
          "name": "stdout",
          "output_type": "stream",
          "text": [
            "Enter a string: jhg231j213\n",
            "MIXED\n"
          ]
        }
      ],
      "source": [
        "#String\n",
        "\n",
        "#Task 2\n",
        "\n",
        "string = input('Enter a string: ')\n",
        "\n",
        "final_letters = 0\n",
        "final_numbers = 0\n",
        "\n",
        "for i in string:\n",
        "    if 'a' <= i <= 'z' or 'A'<= i <= 'Z':\n",
        "        final_letters += 1\n",
        "    elif '0' <= i <= '9':\n",
        "        final_numbers+=1\n",
        "    else:\n",
        "        pass\n",
        "if final_letters > 0 and final_numbers > 0:\n",
        "    print('MIXED')\n",
        "elif final_numbers ==0 and final_letters > 0:\n",
        "    print('WORD')\n",
        "else:\n",
        "    print('NUMBERS')"
      ]
    },
    {
      "cell_type": "code",
      "execution_count": null,
      "metadata": {
        "id": "wOUnftHj8adr",
        "outputId": "0e2e2e8d-d11a-4d15-dcfe-44e840ebc91c"
      },
      "outputs": [
        {
          "name": "stdout",
          "output_type": "stream",
          "text": [
            "Enter a string: coDIng\n",
            "Blank\n"
          ]
        }
      ],
      "source": [
        "#String\n",
        "\n",
        "#Task 3\n",
        "\n",
        "string = input('Enter a string: ')\n",
        "\n",
        "number_1 = 0\n",
        "number_2 = 0\n",
        "\n",
        "for i in range(len(string)):\n",
        "    if 65 <= ord(string[i]) <= 90:\n",
        "        number_1 = i\n",
        "        break\n",
        "\n",
        "for j in range(number_1+1,len(string)):\n",
        "    if 65 <= ord(string[j]) <= 90:\n",
        "        number_2 = j\n",
        "\n",
        "if string[number_1+1:number_2:1] != '':\n",
        "    print(string[number_1+1:number_2:1])\n",
        "else:\n",
        "    print('Blank')"
      ]
    },
    {
      "cell_type": "code",
      "execution_count": null,
      "metadata": {
        "id": "d26zwRR38adr",
        "outputId": "fd995a89-e52a-4c76-f676-8fe91874c250"
      },
      "outputs": [
        {
          "name": "stdout",
          "output_type": "stream",
          "text": [
            "Please enter a string: The book is not too good!\n",
            "The book is not excellent!\n"
          ]
        }
      ],
      "source": [
        "#String\n",
        "\n",
        "#Task 4\n",
        "\n",
        "string = input('Please enter a string: ')\n",
        "\n",
        "if 'too good' in string:\n",
        "    print(string.replace('too good','excellent'))\n",
        "else:\n",
        "    print(string)"
      ]
    },
    {
      "cell_type": "code",
      "execution_count": null,
      "metadata": {
        "id": "Pv97hRK28adr"
      },
      "outputs": [],
      "source": [
        "#String\n",
        "\n",
        "#Task 5\n",
        "\n",
        "string_1 = input('Enter the 1st string: ')\n",
        "string_2 = input('Enter the 2nd string: ')\n",
        "\n",
        "last_string_1 = ''\n",
        "last_string_2 = ''\n",
        "\n",
        "count_1 = 0\n",
        "count_2 = 0\n",
        "\n",
        "for i in string_1:\n",
        "    if i in string_2:\n",
        "        last_string_1 += i\n",
        "        count_1 +=1\n",
        "\n",
        "for j in string_2:\n",
        "    if j in string_1:\n",
        "        last_string_2 += j\n",
        "        count_2 += 1\n",
        "\n",
        "if count_1 + count_2 > 0:\n",
        "    print(last_string_1 + last_string_2)\n",
        "else:\n",
        "    print('Nothing in common')"
      ]
    },
    {
      "cell_type": "code",
      "execution_count": null,
      "metadata": {
        "id": "tF9ZspeM8ads",
        "outputId": "704127ef-1fb4-4b93-e204-33ae6c451e66"
      },
      "outputs": [
        {
          "name": "stdout",
          "output_type": "stream",
          "text": [
            "Enter a string: ohmybracu\n",
            "Uppercase letter missing, Digit missing, Special Character missing\n"
          ]
        }
      ],
      "source": [
        "#String\n",
        "\n",
        "#Task 6\n",
        "\n",
        "string = input('Enter a string: ')\n",
        "\n",
        "lowercase_letters = 0\n",
        "uppercase_letters = 0\n",
        "digits = 0\n",
        "special_characters = 0\n",
        "\n",
        "for i in range(len(string)):\n",
        "    if 97 <= ord(string[i]) <= 122:\n",
        "        lowercase_letters += 1\n",
        "    elif 65 <= ord(string[i]) <= 90:\n",
        "        uppercase_letters += 1\n",
        "    elif 48 <= ord(string[i]) <= 57:\n",
        "        digits += 1\n",
        "    else:\n",
        "        special_characters += 1\n",
        "\n",
        "if lowercase_letters==0 and uppercase_letters>0 and digits>0 and special_characters>0:\n",
        "    print('Lowercase letter missing')\n",
        "elif lowercase_letters==0 and (uppercase_letters==0 or digits==0 or special_characters==0):\n",
        "    print('Lowercase letter missing',end=', ')\n",
        "if uppercase_letters==0 and digits>0 and special_characters>0:\n",
        "    print('Uppercase letter missing')\n",
        "elif uppercase_letters==0 and digits==0 or special_characters==0:\n",
        "    print('Uppercase letter missing',end=', ')\n",
        "if digits==0  and special_characters>0 :\n",
        "    print('Digit missing')\n",
        "elif digits==0 and special_characters==0:\n",
        "    print('Digit missing',end=', ')\n",
        "if special_characters==0:\n",
        "    print('Special Character missing')\n",
        "if lowercase_letters>0 and uppercase_letters>0 and digits>0 and special_characters>0:\n",
        "    print(\"Okay\")"
      ]
    },
    {
      "cell_type": "code",
      "execution_count": null,
      "metadata": {
        "id": "h-vNEFFt8ads",
        "outputId": "4082bf32-9224-4fdf-94ef-106993e72d94"
      },
      "outputs": [
        {
          "name": "stdout",
          "output_type": "stream",
          "text": [
            "Enter the numbers: 10\n",
            "Enter the numbers: 20\n",
            "Enter the numbers: 20\n",
            "Enter the numbers: 30\n",
            "Enter the numbers: 40\n",
            "Enter the numbers: 50\n",
            "Enter the numbers: 40\n",
            "Enter the numbers: 90\n",
            "Enter the numbers: STOP\n",
            "10 1 times\n",
            "20 2 times\n",
            "30 1 times\n",
            "40 2 times\n",
            "50 1 times\n",
            "90 1 times\n"
          ]
        }
      ],
      "source": [
        "#List\n",
        "\n",
        "#Task 1\n",
        "\n",
        "inp = []\n",
        "\n",
        "while True:\n",
        "    num_inp = input('Enter the numbers: ')\n",
        "    if num_inp == 'STOP':\n",
        "        break\n",
        "    inp.append(num_inp)\n",
        "\n",
        "uni =[]\n",
        "\n",
        "for i in inp:\n",
        "    if i not in uni:\n",
        "        uni.append(i)\n",
        "\n",
        "for j in uni:\n",
        "    print(j,inp.count(j),'times')"
      ]
    },
    {
      "cell_type": "code",
      "execution_count": null,
      "metadata": {
        "id": "qv_XkbG-8ads",
        "outputId": "ef8026c9-8f09-4346-9b8f-b1c45af0b59e"
      },
      "outputs": [
        {
          "name": "stdout",
          "output_type": "stream",
          "text": [
            "Enter list number: 4\n",
            "Enter lists: 1 2 3\n",
            "Enter lists: 4 5 6\n",
            "Enter lists: 10 11 12\n",
            "Enter lists: 7 8 9\n",
            "33\n",
            "[10, 11, 12]\n"
          ]
        }
      ],
      "source": [
        "#List\n",
        "\n",
        "#Task 2\n",
        "\n",
        "N = int(input('Enter list number: '))\n",
        "\n",
        "maxsum = 0\n",
        "maxlst = []\n",
        "\n",
        "for i in range(N):\n",
        "    inp = input('Enter lists: ').split(' ')\n",
        "    inp = [int(num) for num in inp]\n",
        "    inpsum = sum(inp)\n",
        "    if inpsum > maxsum:\n",
        "        maxsum = inpsum\n",
        "        maxlst = inp\n",
        "\n",
        "print(maxsum)\n",
        "print(maxlst)"
      ]
    },
    {
      "cell_type": "code",
      "execution_count": null,
      "metadata": {
        "id": "AsDv8oFV8adt",
        "outputId": "7c91feed-8802-4e7c-dab5-cc66f89c3dbf"
      },
      "outputs": [
        {
          "name": "stdout",
          "output_type": "stream",
          "text": [
            "Enter a list: 2 3 4\n",
            "Enter the 2nd list: 4 5 6\n",
            "[8, 10, 12, 12, 15, 18, 16, 20, 24]\n"
          ]
        }
      ],
      "source": [
        "#List\n",
        "\n",
        "#Task 3\n",
        "\n",
        "inp1 = input('Enter a list: ').split(' ')\n",
        "inp1 = [int(a) for a in inp1]\n",
        "inp2 = input('Enter the 2nd list: ').split(' ')\n",
        "inp2 = [int(b) for b in inp2]\n",
        "\n",
        "final_list = []\n",
        "\n",
        "for i in inp1:\n",
        "    for j in inp2:\n",
        "        final_list.append(i*j)\n",
        "\n",
        "print(final_list)"
      ]
    },
    {
      "cell_type": "code",
      "execution_count": null,
      "metadata": {
        "id": "NkbHYcD78adt",
        "outputId": "cfc7d71b-c407-4b33-faa2-b3b90abf9088"
      },
      "outputs": [
        {
          "name": "stdout",
          "output_type": "stream",
          "text": [
            "Enter a list: 1 4 2 3\n",
            "UB Jumper\n",
            "Enter a list: 2 1 4 6 10\n",
            "UB Jumper\n",
            "Enter a list: 1 4 2 -1 6\n",
            "Not UB Jumper\n",
            "Enter a list: STOP\n"
          ]
        }
      ],
      "source": [
        "#List\n",
        "\n",
        "#Task 4\n",
        "\n",
        "while True:\n",
        "    string = input('Enter a list: ')\n",
        "    if string == 'STOP':\n",
        "        break\n",
        "    else:\n",
        "        inp = string.split()\n",
        "        count = 0\n",
        "        for x in range(len(inp)-1):\n",
        "            dif = abs(int(inp[x+1])) - (int(inp[x]))\n",
        "            if dif <= len(inp)-1:\n",
        "                count +=1\n",
        "\n",
        "        if count==  len(inp)-1:\n",
        "            print('UB Jumper')\n",
        "        else:\n",
        "            print('Not UB Jumper')"
      ]
    },
    {
      "cell_type": "code",
      "execution_count": null,
      "metadata": {
        "id": "zE0n9HF38adt",
        "outputId": "2ff57c89-54dd-47f4-804d-17997abf7a68"
      },
      "outputs": [
        {
          "name": "stdout",
          "output_type": "stream",
          "text": [
            "Enter a string: Bracu12345\n",
            "acruB13524"
          ]
        }
      ],
      "source": [
        "#List\n",
        "\n",
        "#Task 5\n",
        "\n",
        "inp =input('Enter a string: ')\n",
        "\n",
        "lowercaselet =[]\n",
        "\n",
        "uppercaselet =[]\n",
        "\n",
        "digits = []\n",
        "\n",
        "odddigits = []\n",
        "\n",
        "evendigits = []\n",
        "\n",
        "for i in inp:\n",
        "    if 97 <= ord(i) <= 122:\n",
        "        lowercaselet.append(i)\n",
        "        lowercaselet=sorted(lowercaselet)\n",
        "\n",
        "for j in inp:\n",
        "    if 65 <= ord(j) <= 90:\n",
        "        uppercaselet.append(j)\n",
        "        uppercaselet=sorted(uppercaselet)\n",
        "\n",
        "for k in inp:\n",
        "    if 48 <= ord(k) <= 57:\n",
        "        digits.append(int(k))\n",
        "\n",
        "for l in range(len(digits)):\n",
        "    if digits[l] % 2 != 0:\n",
        "        odddigits.append(digits[l])\n",
        "        odddigits = sorted(odddigits)\n",
        "    else:\n",
        "        evendigits.append(digits[l])\n",
        "        evendigits=sorted(evendigits)\n",
        "\n",
        "finaldigits = odddigits+evendigits\n",
        "\n",
        "finalstring =(lowercaselet+uppercaselet+finaldigits)\n",
        "for m in finalstring:\n",
        "    print(m,end='')"
      ]
    },
    {
      "cell_type": "code",
      "execution_count": null,
      "metadata": {
        "id": "zwBrKJ0T8adu",
        "outputId": "85f072f3-f5ee-4442-a686-7cb015f4417d"
      },
      "outputs": [
        {
          "name": "stdout",
          "output_type": "stream",
          "text": [
            "Enter the number of total students: 5\n",
            "Enter how many times someone can enter: 2\n",
            "Enter student details: 0\n",
            "Enter student details: 4\n",
            "Enter student details: 5\n",
            "Enter student details: 1\n",
            "Enter student details: 0\n",
            "1 teams\n"
          ]
        }
      ],
      "source": [
        "#List\n",
        "\n",
        "#Task 6\n",
        "\n",
        "totalstudents = int(input('Enter the number of total students: '))\n",
        "capability = int(input('Enter how many times someone can enter: '))\n",
        "\n",
        "studentdetails = []\n",
        "\n",
        "for i in range(totalstudents):\n",
        "    studentdetailsinp = input('Enter student details: ')\n",
        "    studentdetails.append(int(studentdetailsinp))\n",
        "\n",
        "capablestudentslist = []\n",
        "\n",
        "for i in studentdetails:\n",
        "    if i + capability <5 or i + capability == 5:\n",
        "        capablestudentslist.append(i)\n",
        "count = 0\n",
        "\n",
        "for j in capablestudentslist:\n",
        "    count+=1\n",
        "if count % 3 == 0:\n",
        "    print(count//3,'teams')\n",
        "else:\n",
        "    print('0 teams')"
      ]
    },
    {
      "cell_type": "code",
      "execution_count": null,
      "metadata": {
        "id": "OYmYrdAF8adu",
        "outputId": "b5a66cf4-bd67-4cd3-ac13-c3f2fe9a0c6e"
      },
      "outputs": [
        {
          "name": "stdout",
          "output_type": "stream",
          "text": [
            "Enter the first dictionary: a: 100, b: 100, c: 200, d: 300\n",
            "Enter the second dictionary: a: 300, b: 200, d: 400, e: 200\n",
            "{'a': 400, ' b': 300, ' c': 200, ' d': 700, ' e': 200}\n",
            "(200, 300, 400, 700)\n"
          ]
        }
      ],
      "source": [
        "#Dictionary and Tuples\n",
        "\n",
        "# Task 1\n",
        "\n",
        "inp1 = input('Enter the first dictionary: ').split(',')\n",
        "\n",
        "inpdic1 = {}\n",
        "\n",
        "for i in inp1:\n",
        "    key, value = i.split(':')\n",
        "    inpdic1[key] = int(value)\n",
        "\n",
        "inp2 = input('Enter the second dictionary: ').split(',')\n",
        "\n",
        "inpdic2 ={}\n",
        "\n",
        "for j in inp2:\n",
        "    key_2, value_2 = j.split(':')\n",
        "    inpdic2[key_2] = int(value_2)\n",
        "\n",
        "\n",
        "for k in inpdic2:\n",
        "    if k in inpdic1:\n",
        "        inpdic1[k] += inpdic2[k]\n",
        "\n",
        "    else:\n",
        "        inpdic1[k] = inpdic2[k]\n",
        "\n",
        "print(inpdic1)\n",
        "\n",
        "emp1 = []\n",
        "emp2 = []\n",
        "\n",
        "for x,y in inpdic1.items():\n",
        "    emp1.append(y)\n",
        "\n",
        "for z in emp1:\n",
        "    if z not in emp2:\n",
        "        emp2.append(z)\n",
        "        emp2 = sorted(emp2)\n",
        "        tup = tuple(emp2)\n",
        "\n",
        "print(tup)"
      ]
    },
    {
      "cell_type": "code",
      "execution_count": null,
      "metadata": {
        "id": "VOenituM8adu",
        "outputId": "2bf5d71b-c380-4565-bfc5-5adbca5df3f4"
      },
      "outputs": [
        {
          "name": "stdout",
          "output_type": "stream",
          "text": [
            "Enter the numbers: 10\n",
            "Enter the numbers: 20\n",
            "Enter the numbers: 20\n",
            "Enter the numbers: 30\n",
            "Enter the numbers: 50\n",
            "Enter the numbers: 70\n",
            "Enter the numbers: 90\n",
            "Enter the numbers: STOP\n",
            "10 - 1 times\n",
            "20 - 2 times\n",
            "30 - 1 times\n",
            "50 - 1 times\n",
            "70 - 1 times\n",
            "90 - 1 times\n"
          ]
        }
      ],
      "source": [
        "#Dictionary and Tuples\n",
        "\n",
        "#Task 2\n",
        "\n",
        "dic = {}\n",
        "\n",
        "while True:\n",
        "    inpnum= input('Enter the numbers: ')\n",
        "    if inpnum == 'STOP':\n",
        "        break\n",
        "    else:\n",
        "        inpnum = int(inpnum)\n",
        "        if inpnum not in dic:\n",
        "            dic[inpnum] = 1\n",
        "        else:\n",
        "            dic[inpnum] += 1\n",
        "\n",
        "for key,value in dic.items():\n",
        "    print(key,'-',value,'times')"
      ]
    },
    {
      "cell_type": "code",
      "execution_count": null,
      "metadata": {
        "id": "cX0ukkQ78adu",
        "outputId": "ce60dd72-716f-42d3-b8f1-43a249d49610"
      },
      "outputs": [
        {
          "name": "stdout",
          "output_type": "stream",
          "text": [
            "Enter a dictionary: key1 : value1, key2 : value2, key3 : value1\n",
            "{' value1': ['key1 ', ' key3 '], ' value2': [' key2 ']}\n"
          ]
        }
      ],
      "source": [
        "#Dictionary and Tuples\n",
        "\n",
        "#Task 3\n",
        "\n",
        "inp= input('Enter a dictionary: ').split(',')\n",
        "\n",
        "inpdic = {}\n",
        "\n",
        "for a in inp:\n",
        "    key, value = a.split(':')\n",
        "    inpdic[key] = value\n",
        "\n",
        "resdic = {}\n",
        "for b,c in inpdic.items():\n",
        "    if c not in resdic:\n",
        "        resdic[c] = [b]\n",
        "    else:\n",
        "        resdic[c].append(b)\n",
        "\n",
        "print(resdic)"
      ]
    },
    {
      "cell_type": "code",
      "execution_count": null,
      "metadata": {
        "id": "pPDzbG5r8adu",
        "outputId": "6a7996cc-1dd7-4e0c-c12f-2c30b25a652e"
      },
      "outputs": [
        {
          "name": "stdout",
          "output_type": "stream",
          "text": [
            "Enter the first string: evil\n",
            "Enter the second string: live\n",
            "Those strings are anagrams\n"
          ]
        }
      ],
      "source": [
        "#Dictionary and Tuples\n",
        "\n",
        "#Task 4\n",
        "\n",
        "inp1 = input('Enter the first string: ')\n",
        "inp2 = input('Enter the second string: ')\n",
        "\n",
        "dic1 = {}\n",
        "dic2 = {}\n",
        "\n",
        "for i in inp1:\n",
        "    if i not in dic1:\n",
        "        dic1[i] = 1\n",
        "    else:\n",
        "        dic1[i] += 1\n",
        "\n",
        "for j in inp2:\n",
        "    if j not in dic2:\n",
        "        dic2[j] = 1\n",
        "    else:\n",
        "        dic2[i] += 1\n",
        "\n",
        "if dic1 == dic2:\n",
        "    print('Those strings are anagrams')\n",
        "else:\n",
        "    print('Those strings are not anagrams')"
      ]
    },
    {
      "cell_type": "code",
      "execution_count": 1,
      "metadata": {
        "id": "lWFeZ8WQ8adv",
        "outputId": "ad380c18-c349-4a7e-ec3d-6d725d2daf72",
        "colab": {
          "base_uri": "https://localhost:8080/"
        }
      },
      "outputs": [
        {
          "output_type": "stream",
          "name": "stdout",
          "text": [
            "Enter a string: Fouad\n",
            "3336668823\n"
          ]
        }
      ],
      "source": [
        "#Dictionary and Tuples\n",
        "\n",
        "#Task 5\n",
        "\n",
        "maindic = {\"1\" : \".,?!:\", \"2\" : \"ABC\", \"3\" : \"DEF\", \"4\" : \"GHI\", \"5\" : \"JKL\", \"6\" : \"MNO\", \"7\" : \"PQRS\", \"8\" : \"TUV\", \"9\" : \"WXYZ\", \"0\" : \" \"}\n",
        "inpstr = input(\"Enter a string: \").upper()\n",
        "keys = ''\n",
        "\n",
        "for x in inpstr:\n",
        "    for num in maindic.keys():\n",
        "        if x in maindic[num]:\n",
        "            n = maindic[num].find(x)\n",
        "            keys = keys + (num * (n + 1))\n",
        "            continue\n",
        "        else:\n",
        "            continue\n",
        "print(keys)"
      ]
    }
  ],
  "metadata": {
    "kernelspec": {
      "display_name": "Python 3",
      "language": "python",
      "name": "python3"
    },
    "language_info": {
      "codemirror_mode": {
        "name": "ipython",
        "version": 3
      },
      "file_extension": ".py",
      "mimetype": "text/x-python",
      "name": "python",
      "nbconvert_exporter": "python",
      "pygments_lexer": "ipython3",
      "version": "3.8.5"
    },
    "colab": {
      "provenance": []
    }
  },
  "nbformat": 4,
  "nbformat_minor": 0
}