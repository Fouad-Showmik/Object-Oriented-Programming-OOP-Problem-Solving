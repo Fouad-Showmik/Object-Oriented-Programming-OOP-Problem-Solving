{
  "cells": [
    {
      "cell_type": "code",
      "execution_count": null,
      "metadata": {
        "id": "h_TpWYne86z6",
        "outputId": "db3ea851-824a-4aec-e974-a2f3898d2b20"
      },
      "outputs": [
        {
          "name": "stdout",
          "output_type": "stream",
          "text": [
            "Integer\n",
            "1234\n",
            "=====================\n",
            "String\n",
            "Hello\n",
            "=====================\n",
            "Float\n",
            "4.0\n"
          ]
        }
      ],
      "source": [
        "#Question_1\n",
        "\n",
        "class DataType:\n",
        "\n",
        "    def __init__(self,name, value):\n",
        "        self.name = name\n",
        "        self.value = value\n",
        "\n",
        "data_type1 = DataType('Integer', 1234)\n",
        "print(data_type1.name)\n",
        "print(data_type1.value)\n",
        "print('=====================')\n",
        "data_type2 = DataType('String', 'Hello')\n",
        "print(data_type2.name)\n",
        "print(data_type2.value)\n",
        "print('=====================')\n",
        "data_type3 = DataType('Float', 4.0)\n",
        "print(data_type3.name)\n",
        "print(data_type3.value)"
      ]
    },
    {
      "cell_type": "code",
      "execution_count": null,
      "metadata": {
        "id": "HC86JutE86z8",
        "outputId": "22bb2928-b048-43eb-d4f1-f43e01bd65d8"
      },
      "outputs": [
        {
          "name": "stdout",
          "output_type": "stream",
          "text": [
            "Name of this flower: Rose\n",
            "Color of this flower: Red\n",
            "Number of petal: 6\n",
            "=====================\n",
            "Name of this flower: Orchid\n",
            "Color of this flower: Purple\n",
            "Number of petal: 4\n",
            "<__main__.Flower object at 0x000001EFCCA00100>\n",
            "<__main__.Flower object at 0x000001EFCCA00E20>\n",
            "They are different\n"
          ]
        }
      ],
      "source": [
        "#Question_2\n",
        "\n",
        "class Flower:\n",
        "    pass\n",
        "\n",
        "flower1 = Flower()\n",
        "flower1.name = \"Rose\"\n",
        "flower1.color = \"Red\"\n",
        "flower1.num_of_petal = 6\n",
        "print(\"Name of this flower:\", flower1.name)\n",
        "print(\"Color of this flower:\",flower1.color)\n",
        "print(\"Number of petal:\",flower1.num_of_petal)\n",
        "print('=====================')\n",
        "flower2 = Flower()\n",
        "flower2.name = \"Orchid\"\n",
        "flower2.color = \"Purple\"\n",
        "flower2.num_of_petal = 4\n",
        "print(\"Name of this flower:\",flower2.name)\n",
        "print(\"Color of this flower:\",flower2.color)\n",
        "print(\"Number of petal:\",flower2.num_of_petal)\n",
        "print(flower1)\n",
        "print(flower2)\n",
        "if flower1 == flower2:\n",
        "    print('They are same')\n",
        "else:\n",
        "    print('They are different')"
      ]
    },
    {
      "cell_type": "code",
      "execution_count": null,
      "metadata": {
        "id": "ZLI5QO0886z8",
        "outputId": "86196525-6453-4d80-c59b-693639e82d45"
      },
      "outputs": [
        {
          "name": "stdout",
          "output_type": "stream",
          "text": [
            "Part 1: \n",
            "Name of President:  Aladeen\n",
            "Designation:  President Prime Minister Admiral General\n",
            "Number_of_wife :  100\n",
            "Is he/she dictator:  True\n",
            "Part 2: \n",
            "Name of President:  Donald Trump\n",
            "Designation:  President\n",
            "Number_of_wife :  1\n",
            "Is he/she dictator:  False\n",
            "previous information lost\n"
          ]
        }
      ],
      "source": [
        "#Question_3\n",
        "\n",
        "class Wadiya():\n",
        "    def __init__(self):\n",
        "        self.name = 'Aladeen'\n",
        "        self.designation = 'President Prime Minister Admiral General'\n",
        "        self.num_of_wife = 100\n",
        "        self.dictator = True\n",
        "\n",
        "wadiya = Wadiya()\n",
        "print('Part 1: ')\n",
        "print('Name of President: ', wadiya.name)\n",
        "print('Designation: ',wadiya.designation)\n",
        "print('Number_of_wife : ',wadiya.num_of_wife)\n",
        "print('Is he/she dictator: ',wadiya.dictator)\n",
        "wadiya = Wadiya()\n",
        "print('Part 2: ')\n",
        "wadiya.name = 'Donald Trump'\n",
        "wadiya.designation = 'President'\n",
        "wadiya.num_of_wife = 1\n",
        "wadiya.dictator = False\n",
        "print('Name of President: ',wadiya.name)\n",
        "print('Designation: ',wadiya.designation)\n",
        "print('Number_of_wife : ',wadiya.num_of_wife)\n",
        "print('Is he/she dictator: ',wadiya.dictator)\n",
        "print('previous information lost')"
      ]
    },
    {
      "cell_type": "code",
      "execution_count": null,
      "metadata": {
        "id": "VuJ2Pk0S86z9",
        "outputId": "a42367b8-808c-48eb-ddeb-95a7b1d0a8f6"
      },
      "outputs": [
        {
          "name": "stdout",
          "output_type": "stream",
          "text": [
            "Heath Ledger\n",
            "Mind Game\n",
            "False\n",
            "=====================\n",
            "Joaquin Phoenix\n",
            "Laughing out Loud\n",
            "True\n",
            "=====================\n",
            "different\n",
            "same\n",
            "The location of j1 is different of j2 as a result different is printed.\n",
            "At first j1.name was Heath Ledger and j2.name was Joaquin Phoenix but before the 2nd if else block j2.name was changed and because of that it is showing same.\n"
          ]
        }
      ],
      "source": [
        "#Question_4\n",
        "\n",
        "class Joker():\n",
        "\n",
        "    def __init__(self,name,power,mentality_check):\n",
        "        self.name = name\n",
        "        self.power = power\n",
        "        self.is_he_psycho = mentality_check\n",
        "\n",
        "j1 = Joker('Heath Ledger', 'Mind Game', False)\n",
        "print(j1.name)\n",
        "print(j1.power)\n",
        "print(j1.is_he_psycho)\n",
        "print('=====================')\n",
        "j2 = Joker('Joaquin Phoenix', 'Laughing out Loud', True)\n",
        "print(j2.name)\n",
        "print(j2.power)\n",
        "print(j2.is_he_psycho)\n",
        "print('=====================')\n",
        "if j1 == j2:\n",
        "    print('same')\n",
        "else:\n",
        "    print('different')\n",
        "j2.name = 'Heath Ledger'\n",
        "if j1.name == j2.name:\n",
        "    print('same')\n",
        "else:\n",
        "    print('different')\n",
        "\n",
        "\n",
        "print('The location of j1 is different of j2 as a result different is printed.')\n",
        "print('At first j1.name was Heath Ledger and j2.name was Joaquin Phoenix but before the 2nd if else block j2.name was changed and because of that it is showing same.')\n"
      ]
    },
    {
      "cell_type": "code",
      "execution_count": null,
      "metadata": {
        "id": "oBNc3RRI86z9",
        "outputId": "9981d0de-c99a-478b-e9fd-44442f024c1b"
      },
      "outputs": [
        {
          "name": "stdout",
          "output_type": "stream",
          "text": [
            "=======Team 1=======\n",
            "Pokemon 1: pikachu 90\n",
            "Pokemon 2: charmander 60\n",
            "Combined Power: 1500\n",
            "=======Team 2=======\n",
            "Pokemon 1: bulbasaur 80\n",
            "Pokemon 2: squirtle 70\n",
            "Combined Power: 1350\n"
          ]
        }
      ],
      "source": [
        "#Question_5\n",
        "\n",
        "class Pokemon():\n",
        "    def __init__(self,pokemon1_name, pokemon2_name,pokemon1_power,pokemon2_power,damage_rate):\n",
        "        self.pokemon1_name = pokemon1_name\n",
        "        self.pokemon1_power = pokemon1_power\n",
        "        self.pokemon2_name = pokemon2_name\n",
        "        self.pokemon2_power = pokemon2_power\n",
        "        self.damage_rate = damage_rate\n",
        "\n",
        "team_pika = Pokemon('pikachu', 'charmander', 90, 60, 10)\n",
        "print('=======Team 1=======')\n",
        "print('Pokemon 1:',team_pika.pokemon1_name, team_pika.pokemon1_power)\n",
        "print('Pokemon 2:',team_pika.pokemon2_name, team_pika.pokemon2_power)\n",
        "pika_combined_power = (team_pika.pokemon1_power + team_pika.pokemon2_power) * team_pika.damage_rate\n",
        "print('Combined Power:', pika_combined_power)\n",
        "\n",
        "team_bulbasaur = Pokemon('bulbasaur', 'squirtle', 80, 70, 9)\n",
        "print('=======Team 2=======')\n",
        "print('Pokemon 1:',team_bulbasaur.pokemon1_name, team_bulbasaur.pokemon1_power)\n",
        "print('Pokemon 2:',team_bulbasaur.pokemon2_name, team_bulbasaur.pokemon2_power)\n",
        "pika_combined_power = (team_bulbasaur.pokemon1_power + team_bulbasaur.pokemon2_power) * team_bulbasaur.damage_rate\n",
        "print('Combined Power:', pika_combined_power)"
      ]
    },
    {
      "cell_type": "code",
      "execution_count": null,
      "metadata": {
        "id": "7o9MuUKd86z9",
        "outputId": "5e0e0369-2b07-46d4-d8ba-6a901336ba81"
      },
      "outputs": [
        {
          "name": "stdout",
          "output_type": "stream",
          "text": [
            "Name of the Player: Ronaldo\n",
            "Jersey Number of player: 9\n",
            "Position of player: Striker\n",
            "===========================\n",
            "Name of the player: Neuer\n",
            "Jersey Number of player: 1\n",
            "Position of player: Goal Keeper\n"
          ]
        }
      ],
      "source": [
        "#Question_6\n",
        "\n",
        "class Player:\n",
        "    pass\n",
        "\n",
        "player1 = Player()\n",
        "player1.name = \"Ronaldo\"\n",
        "player1.jersy_number = 9\n",
        "player1.position = \"Striker\"\n",
        "print(\"Name of the Player:\", player1.name)\n",
        "print(\"Jersey Number of player:\", player1.jersy_number)\n",
        "print(\"Position of player:\", player1.position)\n",
        "print(\"===========================\")\n",
        "player2 = Player()\n",
        "player2.name = \"Neuer\"\n",
        "player2.jersy_number = 1\n",
        "player2.position = \"Goal Keeper\"\n",
        "print(\"Name of the player:\", player2.name)\n",
        "print(\"Jersey Number of player:\", player2.jersy_number)\n",
        "print(\"Position of player:\", player2.position)"
      ]
    },
    {
      "cell_type": "code",
      "execution_count": null,
      "metadata": {
        "scrolled": true,
        "id": "7TSC9f1X86z9",
        "outputId": "ff09c5f3-d0d8-4494-bef5-74f7f0304f43"
      },
      "outputs": [
        {
          "name": "stdout",
          "output_type": "stream",
          "text": [
            "Name: Bangladesh\n",
            "Continent: Asia\n",
            "Capital: Dhaka\n",
            "Fifa Ranking: 187\n",
            "===================\n",
            "Name: Belgium\n",
            "Continent: Europe\n",
            "Capital: Brussels\n",
            "Fifa Ranking: 1\n"
          ]
        }
      ],
      "source": [
        "#Question_7\n",
        "\n",
        "class Country():\n",
        "    def __init__(self):\n",
        "        self.name='Bangladesh'\n",
        "        self.continent='Asia'\n",
        "        self.capital='Dhaka'\n",
        "        self.fifa_ranking=187\n",
        "\n",
        "country = Country()\n",
        "print('Name:',country.name)\n",
        "print('Continent:',country.continent)\n",
        "print('Capital:',country.capital)\n",
        "print('Fifa Ranking:',country.fifa_ranking)\n",
        "print('===================')\n",
        "country.name = \"Belgium\"\n",
        "country.continent = \"Europe\"\n",
        "country.capital = \"Brussels\"\n",
        "country.fifa_ranking = 1\n",
        "print('Name:',country.name)\n",
        "print('Continent:',country.continent)\n",
        "print('Capital:',country.capital)\n",
        "print('Fifa Ranking:',country.fifa_ranking)"
      ]
    },
    {
      "cell_type": "code",
      "execution_count": null,
      "metadata": {
        "id": "ZpmgWuBt86z-",
        "outputId": "dcdf1297-3fcc-41d8-e208-627bdbae74cb"
      },
      "outputs": [
        {
          "name": "stdout",
          "output_type": "stream",
          "text": [
            "Name: Tanjiro\n",
            "Fighting Style: Water Breathing\n",
            "Knows 10 technique(s) and has killed 10 demon(s)\n",
            "===================\n",
            "Name: Zenitsu\n",
            "Fighting Style: Thunder Breathing\n",
            "Knows 1 technique(s) and has killed 4 demon(s)\n",
            "===================\n",
            "Name: Inosuke\n",
            "Fighting Style: Beast Breathing\n",
            "Knows 5 technique(s) and has killed 7 demon(s)\n",
            "===================\n",
            "Tanjiro, Zenitsu, Inosuke knows total 16 techniques\n",
            "They have killed total 21 demons\n"
          ]
        }
      ],
      "source": [
        "#Question_8\n",
        "\n",
        "class DemonSlayer():\n",
        "    def __init__(self,name,style,number_of_technique,kill):\n",
        "        self.name=name\n",
        "        self.style=style\n",
        "        self.number_of_technique=number_of_technique\n",
        "        self.kill=kill\n",
        "\n",
        "\n",
        "tanjiro = DemonSlayer(\"Tanjiro\", \"Water Breathing\", 10, 10)\n",
        "print('Name:',tanjiro.name)\n",
        "print('Fighting Style:',tanjiro.style)\n",
        "print(f'Knows {tanjiro.number_of_technique} technique(s) and has killed {tanjiro.kill} demon(s)')\n",
        "print('===================')\n",
        "zenitsu = DemonSlayer(\"Zenitsu\", \"Thunder Breathing\", 1, 4)\n",
        "print('Name:',zenitsu.name)\n",
        "print('Fighting Style:',zenitsu.style)\n",
        "print(f'Knows {zenitsu.number_of_technique} technique(s) and has killed {zenitsu.kill} demon(s)')\n",
        "print('===================')\n",
        "inosuke = DemonSlayer(\"Inosuke\", \"Beast Breathing\", 5, 7)\n",
        "print('Name:',inosuke.name)\n",
        "print('Fighting Style:',inosuke.style)\n",
        "print(f'Knows {inosuke.number_of_technique} technique(s) and has killed {inosuke.kill} demon(s)')\n",
        "print('===================')\n",
        "print(f'{tanjiro.name}, {zenitsu.name}, {inosuke.name} knows total {tanjiro.number_of_technique + zenitsu.number_of_technique + inosuke.number_of_technique} techniques')\n",
        "print(f'They have killed total {tanjiro.kill + zenitsu.kill + inosuke.kill} demons')"
      ]
    },
    {
      "cell_type": "code",
      "execution_count": null,
      "metadata": {
        "id": "0oSEb9yD86z-",
        "outputId": "e0a3cd5c-03db-48a9-cf55-e0b8cdb6924b"
      },
      "outputs": [
        {
          "name": "stdout",
          "output_type": "stream",
          "text": [
            "Box 1\n",
            "creating a box\n",
            "volume of the box is 1000 cubic units.\n",
            "=========================\n",
            "Height: 10\n",
            "Width: 10\n",
            "Breadth: 10\n",
            "-------------------------\n",
            "Box 2\n",
            "creating a box\n",
            "volume of the box is 3000 cubic units.\n",
            "=========================\n",
            "Height: 30\n",
            "Width: 10\n",
            "Breadth: 10\n",
            "Updating Box 2!\n",
            "Height: 300\n",
            "Width: 10\n",
            "Breadth: 10\n",
            "-------------------------\n",
            "Box 3\n",
            "Height: 300\n",
            "Width: 10\n",
            "Breadth: 10\n"
          ]
        }
      ],
      "source": [
        "#Question_9\n",
        "\n",
        "class box:\n",
        "    def __init__(self,list):\n",
        "        self.height=list[0]\n",
        "        self.width=list[1]\n",
        "        self.breadth=list[2]\n",
        "        print(\"creating a box\")\n",
        "        print(\"volume of the box is \"+str(self.height*self.width*self.breadth)+ \" cubic units.\")\n",
        "\n",
        "print(\"Box 1\")\n",
        "b1 = box([10,10,10])\n",
        "print(\"=========================\")\n",
        "print(\"Height:\", b1.height)\n",
        "print(\"Width:\", b1.width)\n",
        "print(\"Breadth:\", b1.breadth)\n",
        "print(\"-------------------------\")\n",
        "print(\"Box 2\")\n",
        "b2 = box([30,10,10])\n",
        "print(\"=========================\")\n",
        "print(\"Height:\", b2.height)\n",
        "print(\"Width:\", b2.width)\n",
        "print(\"Breadth:\", b2.breadth)\n",
        "b2.height = 300\n",
        "print(\"Updating Box 2!\")\n",
        "print(\"Height:\", b2.height)\n",
        "print(\"Width:\", b2.width)\n",
        "print(\"Breadth:\", b2.breadth)\n",
        "print(\"-------------------------\")\n",
        "print(\"Box 3\")\n",
        "b3 = b2\n",
        "print(\"Height:\", b3.height)\n",
        "print(\"Width:\", b3.width)\n",
        "print(\"Breadth:\", b3.breadth)"
      ]
    },
    {
      "cell_type": "code",
      "execution_count": null,
      "metadata": {
        "id": "efd9Xv3q86z-",
        "outputId": "8937f2ea-7a35-4c02-881f-1665cfd6bb95"
      },
      "outputs": [
        {
          "name": "stdout",
          "output_type": "stream",
          "text": [
            "CANCEL Button Specifications: \n",
            "Button Name:  CANCEL\n",
            "Number of the border characters for the top and the bottom: 28\n",
            "Number of spaces between the left side border and the first character of the button name:10\n",
            "Number of spaces between the right side border and the last character of the button name:10\n",
            "Characters representing the borders:x\n",
            "xxxxxxxxxxxxxxxxxxxxxxxxxxxx\n",
            "x          CANCEL          x\n",
            "xxxxxxxxxxxxxxxxxxxxxxxxxxxx\n",
            "=======================================================\n",
            "CANCEL Button Specifications: \n",
            "Button Name:  Notify\n",
            "Number of the border characters for the top and the bottom: 14\n",
            "Number of spaces between the left side border and the first character of the button name:3\n",
            "Number of spaces between the right side border and the last character of the button name:3\n",
            "Characters representing the borders:!\n",
            "!!!!!!!!!!!!!!\n",
            "!   Notify   !\n",
            "!!!!!!!!!!!!!!\n",
            "=======================================================\n",
            "CANCEL Button Specifications: \n",
            "Button Name:  SAVE PROGRESS\n",
            "Number of the border characters for the top and the bottom: 25\n",
            "Number of spaces between the left side border and the first character of the button name:5\n",
            "Number of spaces between the right side border and the last character of the button name:5\n",
            "Characters representing the borders:$\n",
            "$$$$$$$$$$$$$$$$$$$$$$$$$\n",
            "$     SAVE PROGRESS     $\n",
            "$$$$$$$$$$$$$$$$$$$$$$$$$\n"
          ]
        }
      ],
      "source": [
        "#Question_10\n",
        "\n",
        "class buttons():\n",
        "    def __init__(self,word,spaces,border):\n",
        "        self.word = word\n",
        "        self.spaces = spaces\n",
        "        self.border = border\n",
        "        self.sum=(2*self.spaces)+2+len(self.word)\n",
        "        self.space=' '\n",
        "        print('CANCEL Button Specifications: ')\n",
        "        print('Button Name: ',self.word)\n",
        "        print(f'Number of the border characters for the top and the bottom: {self.sum}')\n",
        "        print(f'Number of spaces between the left side border and the first character of the button name:{self.spaces}')\n",
        "        print(f'Number of spaces between the right side border and the last character of the button name:{self.spaces}')\n",
        "        print(f'Characters representing the borders:{self.border}')\n",
        "        print(self.sum*self.border)\n",
        "        print(f'{self.border}{self.spaces*self.space}{self.word}{self.spaces*self.space}{self.border}')\n",
        "        print(self.sum*self.border)\n",
        "\n",
        "word = \"CANCEL\"\n",
        "spaces = 10\n",
        "border = 'x'\n",
        "b1 = buttons(word, spaces, border)\n",
        "print(\"=======================================================\")\n",
        "b2 = buttons(\"Notify\",3, '!')\n",
        "print(\"=======================================================\")\n",
        "b3 = buttons('SAVE PROGRESS', 5, '$')"
      ]
    },
    {
      "cell_type": "code",
      "execution_count": null,
      "metadata": {
        "id": "KX6tWrBS86z-"
      },
      "outputs": [],
      "source": []
    }
  ],
  "metadata": {
    "kernelspec": {
      "display_name": "Python 3",
      "language": "python",
      "name": "python3"
    },
    "language_info": {
      "codemirror_mode": {
        "name": "ipython",
        "version": 3
      },
      "file_extension": ".py",
      "mimetype": "text/x-python",
      "name": "python",
      "nbconvert_exporter": "python",
      "pygments_lexer": "ipython3",
      "version": "3.8.5"
    },
    "colab": {
      "provenance": []
    }
  },
  "nbformat": 4,
  "nbformat_minor": 0
}