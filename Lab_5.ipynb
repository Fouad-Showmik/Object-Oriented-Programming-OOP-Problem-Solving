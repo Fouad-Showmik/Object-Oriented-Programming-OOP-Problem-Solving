{
  "cells": [
    {
      "cell_type": "code",
      "execution_count": null,
      "metadata": {
        "id": "34EduVsR9IjT",
        "outputId": "a66da1d1-03c7-4e76-f477-5af8f9ba9886"
      },
      "outputs": [
        {
          "name": "stdout",
          "output_type": "stream",
          "text": [
            "Quiz 1 (out of 10): 10\n",
            "Quiz 2 (out of 10): 10\n",
            "Lab (out of 30): 30\n",
            "Mid (out of 20): 20\n",
            "Final (out of 30): 30\n",
            "Total marks: 100\n"
          ]
        }
      ],
      "source": [
        "#Task 1\n",
        "\n",
        "class Marks:\n",
        "    def __init__(self,m):\n",
        "        self.mark=m\n",
        "    def __add__(self,other):\n",
        "        obj=Marks(self.mark+other.mark)\n",
        "        return obj\n",
        "\n",
        "Q1 = Marks(int(input(\"Quiz 1 (out of 10): \")))\n",
        "Q2 = Marks(int(input(\"Quiz 2 (out of 10): \")))\n",
        "Lab = Marks(int(input(\"Lab (out of 30): \")))\n",
        "Mid = Marks(int(input(\"Mid (out of 20): \")))\n",
        "Final = Marks(int(input(\"Final (out of 30): \")))\n",
        "total = Q1 + Q2 + Lab + Mid + Final\n",
        "print(\"Total marks: {}\".format(total.mark))"
      ]
    },
    {
      "cell_type": "code",
      "execution_count": null,
      "metadata": {
        "id": "GryYNp7O9IjV",
        "outputId": "bf27fe24-96f0-49ac-d5fe-fe5b3281c29f"
      },
      "outputs": [
        {
          "name": "stdout",
          "output_type": "stream",
          "text": [
            "====================\n",
            "Name:  Saad Abdullah\n",
            "Department:  CSE\n",
            "CSE 110 Programming Language I\n",
            "CSE 111 Programming Language-II\n",
            "====================\n",
            "Name:  Mumit Khan\n",
            "Department:  CSE\n",
            "CSE 220 Data Structures\n",
            "CSE 221 Algorithms\n",
            "CCSE 230 Discrete Mathematics\n",
            "====================\n",
            "Name:  Sadia Kazi\n",
            "Department:  CSE\n",
            "CSE 310 Object Oriented Programming\n",
            "CSE 320 Data Communications\n",
            "CSE 340 Computer Architecture\n"
          ]
        }
      ],
      "source": [
        "#Task 2\n",
        "\n",
        "class Teacher:\n",
        "    def __init__(self, name, dept):\n",
        "        self.__name=name\n",
        "        self.__dept=dept\n",
        "        self.__cList=[]\n",
        "    def addCourse(self,m):\n",
        "        self.__cList.append(m.title)\n",
        "    def printDetail(self):\n",
        "        print(\"====================\")\n",
        "        print('Name: ',self.__name)\n",
        "        print('Department: ',self.__dept)\n",
        "        for x in  self.__cList:\n",
        "            print(x)\n",
        "class Course:\n",
        "    def __init__(self,title):\n",
        "        self.title=title\n",
        "\n",
        "t1 = Teacher(\"Saad Abdullah\", \"CSE\")\n",
        "t2 = Teacher(\"Mumit Khan\", \"CSE\")\n",
        "t3 = Teacher(\"Sadia Kazi\", \"CSE\")\n",
        "c1 = Course(\"CSE 110 Programming Language I\")\n",
        "c2 = Course(\"CSE 111 Programming Language-II\")\n",
        "c3 = Course(\"CSE 220 Data Structures\")\n",
        "c4 = Course(\"CSE 221 Algorithms\")\n",
        "c5 = Course(\"CCSE 230 Discrete Mathematics\")\n",
        "c6 = Course(\"CSE 310 Object Oriented Programming\")\n",
        "c7 = Course(\"CSE 320 Data Communications\")\n",
        "c8 = Course(\"CSE 340 Computer Architecture\")\n",
        "t1.addCourse(c1)\n",
        "t1.addCourse(c2)\n",
        "t2.addCourse(c3)\n",
        "t2.addCourse(c4)\n",
        "t2.addCourse(c5)\n",
        "t3.addCourse(c6)\n",
        "t3.addCourse(c7)\n",
        "t3.addCourse(c8)\n",
        "t1.printDetail()\n",
        "t2.printDetail()\n",
        "t3.printDetail()"
      ]
    },
    {
      "cell_type": "code",
      "execution_count": null,
      "metadata": {
        "id": "lXcaBHyL9IjV",
        "outputId": "d7f885a6-d18e-4e65-e062-9cd05f4545d6"
      },
      "outputs": [
        {
          "name": "stdout",
          "output_type": "stream",
          "text": [
            "=====================\n",
            "Team : Bangladesh\n",
            "List of players:\n",
            "['Mashrafi', 'Tamim']\n",
            "=====================\n",
            "=====================\n",
            "Team : Australia\n",
            "List of players:\n",
            "['Ponting', 'Lee']\n",
            "=====================\n"
          ]
        }
      ],
      "source": [
        "#Task 3\n",
        "\n",
        "class Team:\n",
        "    def __init__(self,team_name=None):\n",
        "        self.__team_name = team_name\n",
        "        self.__player_list = []\n",
        "\n",
        "    def setName(self,team_name):\n",
        "        self.__team_name = team_name\n",
        "\n",
        "    def addPlayer(self,players):\n",
        "        self.__players = players\n",
        "        player_name = players.names\n",
        "        self.__player_list.append(player_name)\n",
        "\n",
        "    def printDetail(self):\n",
        "        print('=====================')\n",
        "        print('Team :',self.__team_name)\n",
        "        print('List of players:')\n",
        "        print(self.__player_list)\n",
        "        print('=====================')\n",
        "\n",
        "class Player:\n",
        "    def __init__(self,names):\n",
        "        self.names = names\n",
        "\n",
        "b = Team()\n",
        "b.setName('Bangladesh')\n",
        "mashrafi = Player(\"Mashrafi\")\n",
        "b.addPlayer(mashrafi)\n",
        "tamim = Player(\"Tamim\")\n",
        "b.addPlayer(tamim)\n",
        "b.printDetail()\n",
        "a = Team(\"Australia\")\n",
        "ponting = Player(\"Ponting\")\n",
        "a.addPlayer(ponting)\n",
        "lee = Player(\"Lee\")\n",
        "a.addPlayer(lee)\n",
        "a.printDetail()"
      ]
    },
    {
      "cell_type": "code",
      "execution_count": null,
      "metadata": {
        "id": "mAM0N_hq9IjW",
        "outputId": "647f09a8-aa7f-46ce-f996-71b7bb140e3f"
      },
      "outputs": [
        {
          "name": "stdout",
          "output_type": "stream",
          "text": [
            "First Color: red\n",
            "Second Color: blue\n",
            "Color formed: Violet\n"
          ]
        }
      ],
      "source": [
        "#Task 4\n",
        "\n",
        "class Color:\n",
        "    def __init__(self,m):\n",
        "        self.clr=m\n",
        "\n",
        "    def __add__(self,otr):\n",
        "        if (self.clr == \"red\" and otr.clr==\"yellow\") or (self.clr == \"yellow\" and otr.clr==\"red\"):\n",
        "            return Color(\"Orange\")\n",
        "        elif self.clr == \"red\" and otr.clr==\"blue\":\n",
        "            return Color(\"Violet\")\n",
        "        elif self.clr == \"yellow\" and otr.clr==\"blue\":\n",
        "            return Color(\"Green\")\n",
        "\n",
        "C1 = Color(input(\"First Color: \").lower())\n",
        "C2 = Color(input(\"Second Color: \").lower())\n",
        "C3 = C1 + C2\n",
        "print(\"Color formed:\", C3.clr)"
      ]
    },
    {
      "cell_type": "code",
      "execution_count": null,
      "metadata": {
        "id": "ZlhG-1p59IjW",
        "outputId": "599abae9-d3ad-49de-f55c-6f50f1fce118"
      },
      "outputs": [
        {
          "name": "stdout",
          "output_type": "stream",
          "text": [
            "First circle radius:  4\n",
            "First circle area:  50.26548245743669\n",
            "Second circle radius:  5\n",
            "Second circle area:  78.53981633974483\n",
            "Third circle radius:  9\n",
            "Third circle area:  254.46900494077323\n"
          ]
        }
      ],
      "source": [
        "#Task 5\n",
        "\n",
        "class Circle:\n",
        "    def __init__(self,radius):\n",
        "        self.__radius = radius\n",
        "\n",
        "    def setRadius(self):\n",
        "        self.__radius = radius\n",
        "\n",
        "    def getRadius(self):\n",
        "        return self.__radius\n",
        "\n",
        "    def area(self):\n",
        "        import math\n",
        "        The_area = math.pi * self.__radius * self.__radius\n",
        "        return The_area\n",
        "\n",
        "    def __add__(self, other):\n",
        "        return Circle(self.__radius + other.__radius)\n",
        "\n",
        "c1 = Circle(4)\n",
        "print(\"First circle radius: \",c1.getRadius())\n",
        "print(\"First circle area: \",c1.area())\n",
        "c2 = Circle(5)\n",
        "print(\"Second circle radius: \",c2.getRadius())\n",
        "print(\"Second circle area: \",c2.area())\n",
        "c3 = c1 + c2\n",
        "print(\"Third circle radius: \",c3.getRadius())\n",
        "print(\"Third circle area: \",c3.area())"
      ]
    },
    {
      "cell_type": "code",
      "execution_count": null,
      "metadata": {
        "id": "LvzU2T8f9IjW",
        "outputId": "1ae46ff8-3425-4f3f-b978-90f0717f6423"
      },
      "outputs": [
        {
          "name": "stdout",
          "output_type": "stream",
          "text": [
            "First Triangle Base: 10\n",
            "First Triangle Height: 5\n",
            "First Triangle area: 25.0\n",
            "Second Triangle Base: 5\n",
            "Second Triangle Height: 3\n",
            "Second Triangle area: 7.5\n",
            "Third Triangle Base: 5\n",
            "Third Triangle Height: 2\n",
            "Third Triangle area: 5.0\n"
          ]
        }
      ],
      "source": [
        "#Task 6\n",
        "\n",
        "\n",
        "class Triangle:\n",
        "    def __init__(self,base,height):\n",
        "        self.__base = base\n",
        "        self.__height = height\n",
        "    def setBase(self):\n",
        "        self.__base = base\n",
        "    def getBase(self):\n",
        "        return self.__base\n",
        "    def setHeight(self):\n",
        "        self.__height = height\n",
        "    def getHeight(self):\n",
        "        return self.__height\n",
        "    def area(self):\n",
        "        The_area = 0.5 * self.__base* self.__height\n",
        "        return The_area\n",
        "    def __sub__(self, other):\n",
        "        base_triangle = self.__base - other.__base\n",
        "        height_triangle = self.__height - other.__height\n",
        "        return Triangle(base_triangle,height_triangle)\n",
        "\n",
        "t1 = Triangle(10, 5)\n",
        "print(\"First Triangle Base:\" , t1.getBase())\n",
        "print(\"First Triangle Height:\" , t1.getHeight())\n",
        "print(\"First Triangle area:\" ,t1.area())\n",
        "t2 = Triangle(5, 3)\n",
        "print(\"Second Triangle Base:\" , t2.getBase())\n",
        "print(\"Second Triangle Height:\" , t2.getHeight())\n",
        "print(\"Second Triangle area:\" ,t2.area())\n",
        "t3 = t1 - t2\n",
        "print(\"Third Triangle Base:\" , t3.getBase())\n",
        "print(\"Third Triangle Height:\" , t3.getHeight())\n",
        "print(\"Third Triangle area:\" ,t3.area())"
      ]
    },
    {
      "cell_type": "code",
      "execution_count": null,
      "metadata": {
        "id": "cumkJmxZ9IjW",
        "outputId": "124cad43-e847-4996-baf3-a8125044eefb"
      },
      "outputs": [
        {
          "name": "stdout",
          "output_type": "stream",
          "text": [
            "Doll: Tweety \n",
            "Total Price: 2500\n",
            "None\n",
            "Thank you!\n",
            "=========================\n",
            "Doll: Daffy Duck \n",
            "Total Price: 1800\n",
            "None\n",
            "Thank you!\n",
            "=========================\n",
            "Doll: Bugs Bunny \n",
            "Total Price: 3000\n",
            "None\n",
            "Congratulations! You get the Tweety as a gift!\n",
            "=========================\n",
            "Doll: Porky Pig \n",
            "Total Price: 1500\n",
            "None\n",
            "Thank you!\n",
            "=========================\n",
            "Dolls: Daffy Duck, Bugs Bunny \n",
            "Total Price: 4800\n",
            "None\n",
            "Congratulations! You get the Tweety as a gift!\n"
          ]
        }
      ],
      "source": [
        "#Task 7\n",
        "\n",
        "class Dolls:\n",
        "    def __init__(self,name,price):\n",
        "        self.name=name\n",
        "        self.price=price\n",
        "        self.flag=False\n",
        "\n",
        "    def detail(self):\n",
        "        if self.flag==False:\n",
        "            print('Doll: {} \\nTotal Price: {}'.format(self.name,self.price))\n",
        "        else:\n",
        "            print('Dolls: {} \\nTotal Price: {}'.format(self.name,self.price))\n",
        "\n",
        "    def __gt__(self,other):\n",
        "        if self.price > other.price:\n",
        "            return True\n",
        "        else:\n",
        "            return False\n",
        "\n",
        "    def __add__(self,other):\n",
        "        x=self.price+other.price\n",
        "        y=self.name+\", \"+other.name\n",
        "        obj=Dolls(y,x)\n",
        "        obj.flag=True\n",
        "        return obj\n",
        "\n",
        "obj_1 = Dolls(\"Tweety\", 2500)\n",
        "print(obj_1.detail())\n",
        "if obj_1 > obj_1:\n",
        "    print(\"Congratulations! You get the Tweety as a gift!\")\n",
        "else:\n",
        "    print(\"Thank you!\")\n",
        "print(\"=========================\")\n",
        "obj_2 = Dolls(\"Daffy Duck\", 1800)\n",
        "print(obj_2.detail())\n",
        "if obj_2 > obj_1:\n",
        "    print(\"Congratulations! You get the Tweety as a gift!\")\n",
        "else:\n",
        "    print(\"Thank you!\")\n",
        "print(\"=========================\")\n",
        "obj_3 = Dolls(\"Bugs Bunny\", 3000)\n",
        "print(obj_3.detail())\n",
        "if obj_3 > obj_1:\n",
        "    print(\"Congratulations! You get the Tweety as a gift!\")\n",
        "else:\n",
        "    print(\"Thank you!\")\n",
        "print(\"=========================\")\n",
        "obj_4 = Dolls(\"Porky Pig\", 1500)\n",
        "print(obj_4.detail())\n",
        "if obj_4 > obj_1:\n",
        "    print(\"Congratulations! You get the Tweety as a gift!\")\n",
        "else:\n",
        "    print(\"Thank you!\")\n",
        "print(\"=========================\")\n",
        "obj_5 = obj_2 + obj_3\n",
        "print(obj_5.detail())\n",
        "if obj_5 > obj_1:\n",
        "    print(\"Congratulations! You get the Tweety as a gift!\")\n",
        "else:\n",
        "    print(\"Thank you!\")"
      ]
    },
    {
      "cell_type": "code",
      "execution_count": null,
      "metadata": {
        "id": "4-Cu7Eok9IjX",
        "outputId": "5aac4069-8654-43c1-f784-7726b886dd24"
      },
      "outputs": [
        {
          "name": "stdout",
          "output_type": "stream",
          "text": [
            "1\n",
            "2\n",
            "3\n",
            "4\n",
            "(-2,-2)\n",
            "(3,8)\n",
            "The calculated coordinates are NOT the same\n"
          ]
        }
      ],
      "source": [
        "#Task 8\n",
        "\n",
        "class Coordinates:\n",
        "    def __init__(self,a,b):\n",
        "        self.a=a\n",
        "        self.b=b\n",
        "    def detail(self):\n",
        "        return \"({},{})\".format(self.a,self.b)\n",
        "    def __sub__(self,other):\n",
        "        x=self.a-other.a\n",
        "        y=self.b-other.b\n",
        "        return Coordinates(x,y)\n",
        "    def __mul__(self,other):\n",
        "        x=self.a*other.a\n",
        "        y=self.b*other.b\n",
        "        return Coordinates(x,y)\n",
        "    def __eq__(self,other):\n",
        "        if self.a == other.a and self.b == other.b:\n",
        "            return 'The calculated coordinates are the same'\n",
        "        else:\n",
        "            return 'The calculated coordinates are NOT the same'\n",
        "\n",
        "p1 = Coordinates(int(input()),int(input()))\n",
        "p2 = Coordinates(int(input()),int(input()))\n",
        "p4 = p1 - p2\n",
        "print(p4.detail())\n",
        "p5 = p1 * p2\n",
        "print(p5.detail())\n",
        "point_check = (p4 == p5)\n",
        "print(point_check)"
      ]
    },
    {
      "cell_type": "code",
      "execution_count": null,
      "metadata": {
        "id": "v-szzPlR9IjX"
      },
      "outputs": [],
      "source": []
    }
  ],
  "metadata": {
    "kernelspec": {
      "display_name": "Python 3",
      "language": "python",
      "name": "python3"
    },
    "language_info": {
      "codemirror_mode": {
        "name": "ipython",
        "version": 3
      },
      "file_extension": ".py",
      "mimetype": "text/x-python",
      "name": "python",
      "nbconvert_exporter": "python",
      "pygments_lexer": "ipython3",
      "version": "3.8.5"
    },
    "colab": {
      "provenance": []
    }
  },
  "nbformat": 4,
  "nbformat_minor": 0
}